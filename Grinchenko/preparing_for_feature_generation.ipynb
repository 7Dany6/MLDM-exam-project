{
 "cells": [
  {
   "cell_type": "code",
   "execution_count": 1,
   "id": "76f478c7",
   "metadata": {},
   "outputs": [],
   "source": [
    "import pandas as pd\n"
   ]
  },
  {
   "cell_type": "code",
   "execution_count": 2,
   "id": "49b7c3d6",
   "metadata": {},
   "outputs": [],
   "source": [
    "data = pd.read_pickle(\"data_compressed.pkl\")"
   ]
  },
  {
   "cell_type": "code",
   "execution_count": 4,
   "id": "1338afd8",
   "metadata": {},
   "outputs": [],
   "source": [
    "nas_by_cols = (data.drop([\"customer_ID\", \"S_2\"], axis=1).isnull().sum()/len(data)).sort_values(ascending=False)"
   ]
  },
  {
   "cell_type": "code",
   "execution_count": 5,
   "id": "a30d61df",
   "metadata": {},
   "outputs": [
    {
     "name": "stdout",
     "output_type": "stream",
     "text": [
      "D_87  0.9980807929058759\n",
      "D_88  0.9945679714056944\n",
      "D_110 0.9904204159089541\n",
      "D_111 0.9904204159089541\n",
      "B_39  0.9903772084395216\n",
      "D_73  0.9851243371766287\n",
      "B_42  0.9850901689267427\n",
      "D_108 0.9530220913102186\n",
      "D_138 0.9245181779609003\n",
      "D_137 0.9245181779609003\n",
      "D_136 0.9245181779609003\n",
      "D_135 0.9245181779609003\n",
      "D_134 0.9245181779609003\n",
      "B_29  0.9205116342890862\n",
      "R_9   0.9153337885484297\n",
      "R_26  0.8875938700351861\n",
      "D_66  0.8873073267755603\n",
      "D_76  0.8737367464703204\n",
      "D_106 0.8672089836825817\n",
      "D_132 0.8670466392995255\n",
      "D_49  0.8670448314556163\n",
      "D_142 0.8157817903475959\n",
      "D_42  0.7947802484375257\n",
      "D_82  0.7201367236191734\n",
      "D_53  0.6758877553104963\n",
      "D_50  0.5331613712206797\n",
      "D_105 0.48231702676205573\n",
      "B_17  0.45062678852257754\n",
      "D_56  0.45010124829814097\n",
      "S_9   0.31217505135632584\n",
      "D_43  0.2008671865664181\n",
      "D_77  0.20064807588460967\n",
      "D_46  0.1437959045465647\n",
      "S_27  0.14038179132383166\n",
      "S_7   0.12334665895078886\n",
      "S_3   0.12334665895078886\n",
      "D_62  0.06316136579714798\n",
      "D_48  0.060762899282665615\n",
      "D_61  0.04673674231227937\n",
      "D_64  0.03931011953283144\n",
      "D_68  0.03914036298974718\n",
      "D_44  0.036976554614693326\n",
      "D_78  0.036976554614693326\n",
      "D_114 0.03194749442777311\n",
      "D_120 0.03194749442777311\n",
      "D_117 0.03194749442777311\n",
      "D_116 0.03194749442777311\n",
      "R_27  0.022026950975431222\n",
      "D_126 0.021118509411002646\n",
      "P_3   0.012684194436504996\n",
      "D_91  0.005511573726315211\n",
      "P_2   0.003793760443688284\n",
      "D_70  0.0031407672236452968\n",
      "D_104 0.0030802044526833917\n",
      "D_103 0.0030802044526833917\n",
      "D_128 0.0030802044526833917\n",
      "D_129 0.0030802044526833917\n",
      "D_130 0.0030802044526833917\n",
      "D_131 0.0030802044526833917\n",
      "D_139 0.0030802044526833917\n",
      "D_141 0.0030802044526833917\n",
      "D_143 0.0030802044526833917\n",
      "D_107 0.0030802044526833917\n",
      "D_145 0.0030802044526833917\n",
      "D_79  0.003070803664354977\n",
      "D_74  0.0023198253044273555\n",
      "D_80  0.0023198253044273555\n",
      "D_55  0.002042140479957248\n",
      "D_59  0.0019578949537833743\n",
      "D_89  0.0015081033891468983\n",
      "D_84  0.0015081033891468983\n",
      "D_52  0.0015081033891468983\n",
      "D_72  0.0015050300545010704\n",
      "D_83  0.0014958100505635863\n",
      "D_69  0.0014958100505635863\n",
      "D_113 0.001473754354869997\n",
      "D_125 0.001473754354869997\n",
      "D_123 0.001473754354869997\n",
      "D_122 0.001473754354869997\n",
      "D_119 0.001473754354869997\n",
      "D_121 0.001473754354869997\n",
      "D_118 0.001473754354869997\n",
      "D_115 0.001473754354869997\n",
      "D_124 0.001473754354869997\n",
      "B_8   0.001193900117708717\n",
      "B_15  0.0011230326364637417\n",
      "B_25  0.0011230326364637417\n",
      "D_81  0.0010348098536893846\n",
      "B_13  0.00037115035458146515\n",
      "B_30  0.00036446133211701597\n",
      "B_38  0.00036446133211701597\n",
      "S_25  6.345532121680189e-05\n",
      "S_22  4.8088647987661824e-05\n",
      "S_24  4.790786359673077e-05\n",
      "B_6   7.23137563724238e-06\n",
      "D_112 5.604316118862845e-06\n",
      "D_54  5.604316118862845e-06\n",
      "B_27  5.604316118862845e-06\n",
      "B_20  5.604316118862845e-06\n",
      "D_109 5.604316118862845e-06\n",
      "B_16  5.604316118862845e-06\n",
      "B_33  5.604316118862845e-06\n",
      "B_22  5.604316118862845e-06\n",
      "B_19  5.604316118862845e-06\n",
      "B_26  5.604316118862845e-06\n",
      "D_45  5.604316118862845e-06\n",
      "B_3   5.604316118862845e-06\n",
      "D_41  5.604316118862845e-06\n",
      "B_2   5.604316118862845e-06\n",
      "S_23  1.807843909310595e-07\n",
      "B_40  0.0\n",
      "B_37  0.0\n",
      "R_4   0.0\n",
      "B_12  0.0\n",
      "S_8   0.0\n",
      "B_21  0.0\n",
      "R_3   0.0\n",
      "S_6   0.0\n",
      "D_133 0.0\n",
      "D_144 0.0\n",
      "B_1   0.0\n",
      "R_1   0.0\n",
      "D_140 0.0\n",
      "B_4   0.0\n",
      "B_5   0.0\n",
      "R_2   0.0\n",
      "R_28  0.0\n",
      "D_47  0.0\n",
      "B_11  0.0\n",
      "B_7   0.0\n",
      "B_41  0.0\n",
      "D_51  0.0\n",
      "B_9   0.0\n",
      "D_127 0.0\n",
      "R_5   0.0\n",
      "B_10  0.0\n",
      "S_5   0.0\n",
      "B_36  0.0\n",
      "R_25  0.0\n",
      "D_58  0.0\n",
      "D_65  0.0\n",
      "R_15  0.0\n",
      "R_14  0.0\n",
      "R_13  0.0\n",
      "B_28  0.0\n",
      "D_39  0.0\n",
      "S_17  0.0\n",
      "R_11  0.0\n",
      "R_10  0.0\n",
      "S_16  0.0\n",
      "B_18  0.0\n",
      "R_8   0.0\n",
      "R_7   0.0\n",
      "B_24  0.0\n",
      "S_12  0.0\n",
      "D_75  0.0\n",
      "P_4   0.0\n",
      "R_6   0.0\n",
      "B_23  0.0\n",
      "S_15  0.0\n",
      "D_71  0.0\n",
      "S_13  0.0\n",
      "R_16  0.0\n",
      "S_18  0.0\n",
      "B_14  0.0\n",
      "D_86  0.0\n",
      "D_60  0.0\n",
      "D_102 0.0\n",
      "S_26  0.0\n",
      "D_96  0.0\n",
      "R_24  0.0\n",
      "D_94  0.0\n",
      "D_93  0.0\n",
      "D_92  0.0\n",
      "R_23  0.0\n",
      "R_22  0.0\n",
      "R_21  0.0\n",
      "R_20  0.0\n",
      "S_20  0.0\n",
      "B_32  0.0\n",
      "R_19  0.0\n",
      "S_19  0.0\n",
      "B_31  0.0\n",
      "S_11  0.0\n",
      "R_18  0.0\n",
      "R_17  0.0\n",
      "D_63  0.0\n",
      "R_12  0.0\n"
     ]
    }
   ],
   "source": [
    "#List of columns sorted by percantage of missing values\n",
    "\n",
    "for name, item in nas_by_cols.iteritems():\n",
    "    print(f\"{name: <5}\", f\"{item}\")"
   ]
  },
  {
   "cell_type": "code",
   "execution_count": 6,
   "id": "fdf7d41e",
   "metadata": {},
   "outputs": [],
   "source": [
    "#Let's leave for further work thoose columns, which have not more than 20% missing values\n",
    "\n",
    "choosed_cols = list(nas_by_cols[nas_by_cols <0.20].index)"
   ]
  },
  {
   "cell_type": "code",
   "execution_count": 7,
   "id": "c4f50f48",
   "metadata": {},
   "outputs": [],
   "source": [
    "#As feature extraction library do not allows missing values in data, we just got rid of thoose rows, which contain missing values\n",
    "\n",
    "source_data = data[[\"customer_ID\", \"S_2\", *choosed_cols]].dropna().reset_index(drop=True)"
   ]
  },
  {
   "cell_type": "code",
   "execution_count": 9,
   "id": "5511285e",
   "metadata": {},
   "outputs": [],
   "source": [
    "#One-hot-encoding for categorical features in selected ones\n",
    "\n",
    "source_data = pd.concat((\n",
    "    source_data.drop([\"D_63\", \"D_64\"], axis=1),\n",
    "    pd.get_dummies(source_data[[\"D_63\", \"D_64\"]], prefix=[\"D_63\", \"D_64\"])),\n",
    "    axis=1)"
   ]
  },
  {
   "cell_type": "markdown",
   "id": "7efaa20a",
   "metadata": {},
   "source": [
    "Feature extraction is quite computationally time consuming, so we need split our data"
   ]
  },
  {
   "cell_type": "code",
   "execution_count": 10,
   "id": "701c49fa",
   "metadata": {},
   "outputs": [],
   "source": [
    "ids = source_data[\"customer_ID\"]"
   ]
  },
  {
   "cell_type": "code",
   "execution_count": 16,
   "id": "9d7c838d",
   "metadata": {},
   "outputs": [
    {
     "data": {
      "text/plain": [
       "499993"
      ]
     },
     "execution_count": 16,
     "metadata": {},
     "output_type": "execute_result"
    }
   ],
   "source": [
    "ids[ids == ids[500000]].index[0]"
   ]
  },
  {
   "cell_type": "code",
   "execution_count": 17,
   "id": "7c8c296a",
   "metadata": {},
   "outputs": [
    {
     "data": {
      "text/plain": [
       "999988"
      ]
     },
     "execution_count": 17,
     "metadata": {},
     "output_type": "execute_result"
    }
   ],
   "source": [
    "ids[ids == ids[1000000]].index[0]"
   ]
  },
  {
   "cell_type": "code",
   "execution_count": 18,
   "id": "034c4751",
   "metadata": {},
   "outputs": [
    {
     "data": {
      "text/plain": [
       "1499992"
      ]
     },
     "execution_count": 18,
     "metadata": {},
     "output_type": "execute_result"
    }
   ],
   "source": [
    "ids[ids == ids[1500000]].index[0]"
   ]
  },
  {
   "cell_type": "code",
   "execution_count": 19,
   "id": "5e5035c2",
   "metadata": {},
   "outputs": [
    {
     "data": {
      "text/plain": [
       "1999993"
      ]
     },
     "execution_count": 19,
     "metadata": {},
     "output_type": "execute_result"
    }
   ],
   "source": [
    "ids[ids == ids[2000000]].index[0]"
   ]
  },
  {
   "cell_type": "code",
   "execution_count": 20,
   "id": "4051b29e",
   "metadata": {},
   "outputs": [
    {
     "data": {
      "text/plain": [
       "2499990"
      ]
     },
     "execution_count": 20,
     "metadata": {},
     "output_type": "execute_result"
    }
   ],
   "source": [
    "ids[ids == ids[2500000]].index[0]"
   ]
  },
  {
   "cell_type": "code",
   "execution_count": 21,
   "id": "0bbb7832",
   "metadata": {},
   "outputs": [
    {
     "data": {
      "text/plain": [
       "2999993"
      ]
     },
     "execution_count": 21,
     "metadata": {},
     "output_type": "execute_result"
    }
   ],
   "source": [
    "ids[ids == ids[3000000]].index[0]"
   ]
  },
  {
   "cell_type": "code",
   "execution_count": 22,
   "id": "517b2940",
   "metadata": {},
   "outputs": [
    {
     "data": {
      "text/plain": [
       "3499993"
      ]
     },
     "execution_count": 22,
     "metadata": {},
     "output_type": "execute_result"
    }
   ],
   "source": [
    "ids[ids == ids[3500000]].index[0]"
   ]
  },
  {
   "cell_type": "code",
   "execution_count": 23,
   "id": "9cc64123",
   "metadata": {},
   "outputs": [],
   "source": [
    "first_split = source_data.iloc[:499993,:]\n",
    "second_split = source_data.iloc[499993:999988,:]\n",
    "third_split = source_data.iloc[999988:1499992,:]\n",
    "fourth_split = source_data.iloc[1499992:1999993,:]\n",
    "fifth_split = source_data.iloc[1999993:2499990,:]\n",
    "sixth_split = source_data.iloc[2499990:2999993,:]\n",
    "seventh_split = source_data.iloc[2999993:3499993,:]\n",
    "eighthsplit = source_data.iloc[3499993:,:]"
   ]
  },
  {
   "cell_type": "code",
   "execution_count": 26,
   "id": "d2a48d11",
   "metadata": {},
   "outputs": [],
   "source": [
    "#Data export\n",
    "\n",
    "first_split.to_pickle(\"split_1.pkl\")\n",
    "second_split.to_pickle(\"split_2.pkl\")\n",
    "third_split.to_pickle(\"split_3.pkl\")\n",
    "fourth_split.to_pickle(\"split_4.pkl\")\n",
    "fifth_split.to_pickle(\"split_5.pkl\")\n",
    "sixth_split.to_pickle(\"split_6.pkl\")\n",
    "seventh_split.to_pickle(\"split_7.pkl\")\n",
    "eighthsplit.to_pickle(\"split_8.pkl\")"
   ]
  }
 ],
 "metadata": {
  "kernelspec": {
   "display_name": "Python 3 (ipykernel)",
   "language": "python",
   "name": "python3"
  },
  "language_info": {
   "codemirror_mode": {
    "name": "ipython",
    "version": 3
   },
   "file_extension": ".py",
   "mimetype": "text/x-python",
   "name": "python",
   "nbconvert_exporter": "python",
   "pygments_lexer": "ipython3",
   "version": "3.9.13"
  }
 },
 "nbformat": 4,
 "nbformat_minor": 5
}
