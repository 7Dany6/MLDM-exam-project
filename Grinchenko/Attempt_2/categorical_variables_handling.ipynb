{
 "cells": [
  {
   "cell_type": "code",
   "execution_count": 4,
   "id": "378e2640",
   "metadata": {},
   "outputs": [],
   "source": [
    "import numpy as np\n",
    "import pandas as pd\n",
    "import tsfresh"
   ]
  },
  {
   "cell_type": "code",
   "execution_count": 9,
   "id": "4b24fb19",
   "metadata": {},
   "outputs": [],
   "source": [
    "from category_encoders import TargetEncoder"
   ]
  },
  {
   "cell_type": "code",
   "execution_count": 6,
   "id": "6ef2e97c",
   "metadata": {},
   "outputs": [],
   "source": [
    "data = pd.read_pickle(\"data_compressed.pkl\")"
   ]
  },
  {
   "cell_type": "code",
   "execution_count": 8,
   "id": "11ac059b",
   "metadata": {},
   "outputs": [],
   "source": [
    "cat_feats = ['B_30', 'B_38', 'D_114', 'D_116', 'D_117', 'D_120', 'D_126', 'D_63', 'D_64', 'D_66', 'D_68']\n",
    "feats = [col for col in data if col not in [\"customer_ID\",'S_2']]\n",
    "num_feats = [col for col in feats if col not in cat_feats]"
   ]
  },
  {
   "cell_type": "code",
   "execution_count": 26,
   "id": "03f35c5b",
   "metadata": {},
   "outputs": [],
   "source": [
    "labels = pd.read_csv(\"train_labels.csv.zip\")\n",
    "labels.set_index(\"customer_ID\", inplace=True)\n",
    "# labels = labels.reindex(data.index)\n",
    "# labels = labels.iloc[:,0]"
   ]
  },
  {
   "cell_type": "code",
   "execution_count": 37,
   "id": "1f4b4cd6",
   "metadata": {},
   "outputs": [],
   "source": [
    "data_cats = data[[\"customer_ID\", *cat_feats]].set_index(\"customer_ID\")\n",
    "data_cats = data_cats.join(labels)"
   ]
  },
  {
   "cell_type": "code",
   "execution_count": 40,
   "id": "1c965ba3",
   "metadata": {},
   "outputs": [],
   "source": [
    "data_cats[cat_feats] = data_cats[cat_feats].astype('object')"
   ]
  },
  {
   "cell_type": "code",
   "execution_count": null,
   "id": "46254d9e",
   "metadata": {},
   "outputs": [],
   "source": [
    "#encoding categorical features by mean target encoding with smothing (to prevent target leakage)\n",
    "\n",
    "encoder = TargetEncoder()"
   ]
  },
  {
   "cell_type": "code",
   "execution_count": 41,
   "id": "b5cb146f",
   "metadata": {},
   "outputs": [
    {
     "name": "stdout",
     "output_type": "stream",
     "text": [
      "Wall time: 0 ns\n"
     ]
    }
   ],
   "source": [
    "data_cats[cat_feats] = encoder.fit_transform(data_cats[cat_feats], data_cats['target'])"
   ]
  },
  {
   "cell_type": "code",
   "execution_count": 48,
   "id": "846d2dfb",
   "metadata": {},
   "outputs": [],
   "source": [
    "data_cats[cat_feats] = data_cats[cat_feats].astype(\"float32\")\n",
    "data_cats[\"target\"] = data_cats[\"target\"].astype(\"int8\")"
   ]
  },
  {
   "cell_type": "code",
   "execution_count": null,
   "id": "01d35f79",
   "metadata": {},
   "outputs": [],
   "source": [
    "data.set_index(\"customer_ID\", inplace=True)"
   ]
  },
  {
   "cell_type": "code",
   "execution_count": 71,
   "id": "9cd342c3",
   "metadata": {},
   "outputs": [],
   "source": [
    "# data.drop(cat_feats, axis=\"columns\", inplace=True)\n",
    "#memory error: data = data.join(data_cats) \n",
    "data.sort_index(inplace=True)\n",
    "data_cats.sort_index(inplace=True)\n",
    "data[cat_feats] = data_cats[cat_feats]"
   ]
  },
  {
   "cell_type": "code",
   "execution_count": 76,
   "id": "fa2fed7b",
   "metadata": {},
   "outputs": [],
   "source": [
    "# export data\n",
    "data.to_pickle(\"data_encoded_cats.pkl\")"
   ]
  }
 ],
 "metadata": {
  "kernelspec": {
   "display_name": "Python 3 (ipykernel)",
   "language": "python",
   "name": "python3"
  },
  "language_info": {
   "codemirror_mode": {
    "name": "ipython",
    "version": 3
   },
   "file_extension": ".py",
   "mimetype": "text/x-python",
   "name": "python",
   "nbconvert_exporter": "python",
   "pygments_lexer": "ipython3",
   "version": "3.9.13"
  }
 },
 "nbformat": 4,
 "nbformat_minor": 5
}
