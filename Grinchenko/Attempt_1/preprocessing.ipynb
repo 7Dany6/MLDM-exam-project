{
 "cells": [
  {
   "cell_type": "markdown",
   "id": "d24813d8",
   "metadata": {},
   "source": [
    "First of all, we need to get rid of all NA's. \n",
    "To this end, we will use the pandas' ffill method: propagate last valid observation forward to next valid backfill\n",
    "It is important to note that **propagate observations** are only needed **inside the time series for each individual customer**.\n",
    "Also, if the time series **started with NA's**, it is more logical to fill in these gaps not with the first available observation, but **with the mean** (for numerical features) and **with the mode** (for categorical features) over the whole time series for customer\n"
   ]
  },
  {
   "cell_type": "code",
   "execution_count": 1,
   "id": "250fb6be",
   "metadata": {},
   "outputs": [],
   "source": [
    "import pandas as pd\n",
    "import pickle"
   ]
  },
  {
   "cell_type": "code",
   "execution_count": 8,
   "id": "0357c8ce",
   "metadata": {},
   "outputs": [
    {
     "name": "stdout",
     "output_type": "stream",
     "text": [
      "Wall time: 7.94 s\n"
     ]
    }
   ],
   "source": [
    "%%time\n",
    "\n",
    "data = pd.read_pickle('train_data.pkl')"
   ]
  },
  {
   "cell_type": "code",
   "execution_count": 5,
   "id": "f2bc1d4d",
   "metadata": {},
   "outputs": [],
   "source": [
    "cat_feats = ['B_30', 'B_38', 'D_114', 'D_116', 'D_117', 'D_120', 'D_126', 'D_63', 'D_64', 'D_66', 'D_68']\n",
    "feats = [col for col in data if col not in [\"customer_ID\",'S_2']]\n",
    "num_feats = [col for col in feats if col not in cat_feats]\n",
    "# ids = data[\"customer_ID\"]\n",
    "# un_ids = pd.Series(ids.unique())"
   ]
  },
  {
   "cell_type": "code",
   "execution_count": null,
   "id": "7073c031",
   "metadata": {},
   "outputs": [],
   "source": []
  },
  {
   "cell_type": "markdown",
   "id": "977fa3ad",
   "metadata": {},
   "source": [
    "Let's transform datatypes in order to reduce size"
   ]
  },
  {
   "cell_type": "code",
   "execution_count": 61,
   "id": "6d70fd61",
   "metadata": {},
   "outputs": [
    {
     "name": "stdout",
     "output_type": "stream",
     "text": [
      "<class 'pandas.core.frame.DataFrame'>\n",
      "Index: 5531451 entries, 0000099d6bd597052cdcda90ffabf56573fe9d7c79be5fbac11a8ed792feb62a to fffff1d38b785cef84adeace64f8f83db3a0c31e8d92eaba8b115f71cab04681\n",
      "Columns: 190 entries, customer_ID to D_145\n",
      "dtypes: float64(185), int64(1), object(4)\n",
      "memory usage: 7.9+ GB\n"
     ]
    }
   ],
   "source": [
    "data.info()"
   ]
  },
  {
   "cell_type": "code",
   "execution_count": 71,
   "id": "26d4683e",
   "metadata": {},
   "outputs": [
    {
     "data": {
      "text/plain": [
       "array([dtype('O'), dtype('float64'), dtype('int64')], dtype=object)"
      ]
     },
     "execution_count": 71,
     "metadata": {},
     "output_type": "execute_result"
    }
   ],
   "source": [
    "data.dtypes.unique()"
   ]
  },
  {
   "cell_type": "code",
   "execution_count": 74,
   "id": "909038ec",
   "metadata": {},
   "outputs": [],
   "source": [
    "data[data.dtypes[data.dtypes == \"float64\"].index] = data[data.dtypes[data.dtypes == \"float64\"].index].astype(\"float32\",copy=False)"
   ]
  },
  {
   "cell_type": "code",
   "execution_count": null,
   "id": "5687e3e6",
   "metadata": {},
   "outputs": [],
   "source": [
    "data.dtypes[data.dtypes == \"int64\"].index"
   ]
  },
  {
   "cell_type": "code",
   "execution_count": 84,
   "id": "2e6db0f5",
   "metadata": {},
   "outputs": [
    {
     "data": {
      "text/plain": [
       "array([1, 0], dtype=int64)"
      ]
     },
     "execution_count": 84,
     "metadata": {},
     "output_type": "execute_result"
    }
   ],
   "source": [
    "data[\"B_31\"].unique()"
   ]
  },
  {
   "cell_type": "code",
   "execution_count": 85,
   "id": "16c9d314",
   "metadata": {},
   "outputs": [],
   "source": [
    "data[data.dtypes[data.dtypes == \"int64\"].index] = data[data.dtypes[data.dtypes == \"int64\"].index].astype(\"int8\",copy=False)"
   ]
  },
  {
   "cell_type": "code",
   "execution_count": 95,
   "id": "368218f1",
   "metadata": {},
   "outputs": [
    {
     "data": {
      "text/plain": [
       "B_30     3\n",
       "B_38     7\n",
       "D_114    2\n",
       "D_116    2\n",
       "D_117    7\n",
       "D_120    2\n",
       "D_126    3\n",
       "D_66     2\n",
       "D_68     7\n",
       "dtype: int64"
      ]
     },
     "execution_count": 95,
     "metadata": {},
     "output_type": "execute_result"
    }
   ],
   "source": [
    "data[[i for i in cat_feats if i not in data.dtypes[data.dtypes == \"object\"].index]].nunique()"
   ]
  },
  {
   "cell_type": "code",
   "execution_count": 103,
   "id": "9b9207c7",
   "metadata": {},
   "outputs": [],
   "source": [
    "data[[i for i in cat_feats if i not in data.dtypes[data.dtypes == \"object\"].index]] = data[[i for i in cat_feats if i not in data.dtypes[data.dtypes == \"object\"].index]].astype(\"float16\")"
   ]
  },
  {
   "cell_type": "code",
   "execution_count": 107,
   "id": "6bd35827",
   "metadata": {},
   "outputs": [
    {
     "name": "stdout",
     "output_type": "stream",
     "text": [
      "<class 'pandas.core.frame.DataFrame'>\n",
      "Index: 5531451 entries, 0000099d6bd597052cdcda90ffabf56573fe9d7c79be5fbac11a8ed792feb62a to fffff1d38b785cef84adeace64f8f83db3a0c31e8d92eaba8b115f71cab04681\n",
      "Columns: 190 entries, customer_ID to D_145\n",
      "dtypes: float16(9), float32(176), int8(1), object(4)\n",
      "memory usage: 4.0+ GB\n"
     ]
    }
   ],
   "source": [
    "data.info()"
   ]
  },
  {
   "cell_type": "markdown",
   "id": "c5aa52d6",
   "metadata": {},
   "source": [
    " Such a progress! (7.9+ GB -> 4.0+ GB) :)"
   ]
  },
  {
   "cell_type": "markdown",
   "id": "0899c214",
   "metadata": {},
   "source": [
    " "
   ]
  },
  {
   "cell_type": "markdown",
   "id": "b6449163",
   "metadata": {},
   "source": [
    " "
   ]
  },
  {
   "cell_type": "code",
   "execution_count": null,
   "id": "735d0bf6",
   "metadata": {},
   "outputs": [],
   "source": [
    "%%time\n",
    "\n",
    "gr_data = data.groupby(\"customer_ID\")"
   ]
  },
  {
   "cell_type": "code",
   "execution_count": null,
   "id": "fce5903f",
   "metadata": {},
   "outputs": [],
   "source": [
    "%%time\n",
    "\n",
    "data.gr_data.fillna(method=\"ffill\", inplace=True)"
   ]
  },
  {
   "cell_type": "code",
   "execution_count": null,
   "id": "65f06d3a",
   "metadata": {},
   "outputs": [],
   "source": [
    "#Не работает!\n",
    "\n",
    "data[num_feats] = gr_data[num_feats].transform(lambda x: x.fillna(x.mean()))"
   ]
  },
  {
   "cell_type": "code",
   "execution_count": 24,
   "id": "66fff31c",
   "metadata": {},
   "outputs": [
    {
     "name": "stdout",
     "output_type": "stream",
     "text": [
      "Wall time: 14.1 s\n"
     ]
    }
   ],
   "source": [
    "%%time\n",
    "\n",
    "avgs = []\n",
    "i=1\n",
    "for name, group in gr_data[num_feats]:\n",
    "    avgs.append(\n",
    "        [name, *group.mean()]\n",
    "    )\n",
    "    print(i, \"from\", 458913)\n",
    "    i +=1\n",
    "avgs = pd.DataFrame(avgs, columns=[\"customer_ID\", *num_feats])"
   ]
  },
  {
   "cell_type": "code",
   "execution_count": null,
   "id": "5cbe8c1c",
   "metadata": {},
   "outputs": [],
   "source": [
    "data.set_index(data[\"customer_ID\"])\n",
    "avgs.set_index(avgs[\"customer_ID\"])"
   ]
  },
  {
   "cell_type": "code",
   "execution_count": 3,
   "id": "29db432a",
   "metadata": {},
   "outputs": [],
   "source": [
    "#Туго, но сработало))\n",
    "\n",
    "data[num_feats] = data[num_feats].fillna(avgs)"
   ]
  },
  {
   "cell_type": "code",
   "execution_count": 138,
   "id": "1172d083",
   "metadata": {},
   "outputs": [
    {
     "name": "stdout",
     "output_type": "stream",
     "text": [
      "Wall time: 116 ms\n"
     ]
    }
   ],
   "source": [
    "%%time\n",
    "gr_cats = data[cat_feats].groupby(\"customer_ID\") "
   ]
  },
  {
   "cell_type": "code",
   "execution_count": null,
   "id": "a56c7d26",
   "metadata": {},
   "outputs": [],
   "source": [
    "from tqdm import tqdm\n",
    "tqdm.pandas()\n",
    "\n",
    "data[cat_feats] = gr_cats.progress_transform(lambda x: x.fillna(x.mode()))"
   ]
  },
  {
   "cell_type": "code",
   "execution_count": 169,
   "id": "b319cc07",
   "metadata": {},
   "outputs": [],
   "source": [
    "#data export\n",
    "\n",
    "data.to_pickle(\"data_compressed.zip\")"
   ]
  }
 ],
 "metadata": {
  "kernelspec": {
   "display_name": "Python 3 (ipykernel)",
   "language": "python",
   "name": "python3"
  },
  "language_info": {
   "codemirror_mode": {
    "name": "ipython",
    "version": 3
   },
   "file_extension": ".py",
   "mimetype": "text/x-python",
   "name": "python",
   "nbconvert_exporter": "python",
   "pygments_lexer": "ipython3",
   "version": "3.9.13"
  }
 },
 "nbformat": 4,
 "nbformat_minor": 5
}
