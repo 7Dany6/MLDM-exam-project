{
  "cells": [
    {
      "cell_type": "code",
      "execution_count": null,
      "id": "556705fc",
      "metadata": {
        "id": "556705fc"
      },
      "outputs": [],
      "source": [
        "import pandas as pd\n",
        "import numpy as np\n",
        "import matplotlib.pyplot as plt"
      ]
    },
    {
      "cell_type": "code",
      "source": [
        "import os \n",
        "import sys\n",
        "\n",
        "if not sys.warnoptions:\n",
        "    import warnings\n",
        "    warnings.simplefilter(\"ignore\")"
      ],
      "metadata": {
        "id": "FZLVnti853Q9"
      },
      "id": "FZLVnti853Q9",
      "execution_count": null,
      "outputs": []
    },
    {
      "cell_type": "code",
      "execution_count": null,
      "id": "7ad14ace",
      "metadata": {
        "id": "7ad14ace"
      },
      "outputs": [],
      "source": [
        "import pickle\n",
        "df = pd.read_pickle('D:\\Desktop\\data_compressed.pkl')"
      ]
    },
    {
      "cell_type": "code",
      "execution_count": null,
      "id": "c3b1de56",
      "metadata": {
        "id": "c3b1de56",
        "outputId": "91ef79df-cf00-4e98-9f3b-351e7a570c80"
      },
      "outputs": [
        {
          "data": {
            "text/plain": [
              "(5531451, 190)"
            ]
          },
          "execution_count": 3,
          "metadata": {},
          "output_type": "execute_result"
        }
      ],
      "source": [
        "df.shape"
      ]
    },
    {
      "cell_type": "code",
      "source": [
        "df_columns = df.columns.to_list()\n",
        "df_columns[-1]"
      ],
      "metadata": {
        "id": "Out8AsV36Yee"
      },
      "id": "Out8AsV36Yee",
      "execution_count": null,
      "outputs": []
    },
    {
      "cell_type": "code",
      "source": [
        "df.head()"
      ],
      "metadata": {
        "id": "SCKQrLeu6WQm"
      },
      "id": "SCKQrLeu6WQm",
      "execution_count": null,
      "outputs": []
    },
    {
      "cell_type": "code",
      "execution_count": null,
      "id": "b688ba26",
      "metadata": {
        "id": "b688ba26"
      },
      "outputs": [],
      "source": [
        "cat_features = ['B_30', 'B_38', 'D_114', 'D_116', 'D_117', 'D_120', 'D_126', 'D_63', 'D_64', 'D_66', 'D_68']\n",
        "num_features = [col for col in df if col not in cat_features + ['S_2', 'customer_ID', 'B_31', 'D_87']]\n",
        "binary_features = ['B_31', 'D_87']"
      ]
    },
    {
      "cell_type": "code",
      "execution_count": null,
      "id": "50c93e1e",
      "metadata": {
        "id": "50c93e1e"
      },
      "outputs": [],
      "source": [
        "sampled_df = df.iloc[:15000, :]"
      ]
    },
    {
      "cell_type": "code",
      "execution_count": null,
      "id": "2727f4a5",
      "metadata": {
        "id": "2727f4a5"
      },
      "outputs": [],
      "source": [
        "from sklearn.preprocessing import OneHotEncoder"
      ]
    },
    {
      "cell_type": "code",
      "execution_count": null,
      "id": "14d2d52b",
      "metadata": {
        "id": "14d2d52b"
      },
      "outputs": [],
      "source": [
        "enc = OneHotEncoder(handle_unknown='ignore')"
      ]
    },
    {
      "cell_type": "code",
      "execution_count": null,
      "id": "33cc5924",
      "metadata": {
        "id": "33cc5924"
      },
      "outputs": [],
      "source": [
        "feature_array = enc.fit_transform(sampled_df[['D_63', 'D_64']]).toarray()\n",
        "feature_labels = enc.categories_\n",
        "feature_labels = np.concatenate((np.array(feature_labels)[0], np.array(feature_labels)[1]), axis=0)"
      ]
    },
    {
      "cell_type": "code",
      "execution_count": null,
      "id": "94fe6ddf",
      "metadata": {
        "id": "94fe6ddf",
        "outputId": "3f997639-274e-4d2c-d1e3-c91d9b052df8"
      },
      "outputs": [
        {
          "data": {
            "text/html": [
              "<div>\n",
              "<style scoped>\n",
              "    .dataframe tbody tr th:only-of-type {\n",
              "        vertical-align: middle;\n",
              "    }\n",
              "\n",
              "    .dataframe tbody tr th {\n",
              "        vertical-align: top;\n",
              "    }\n",
              "\n",
              "    .dataframe thead th {\n",
              "        text-align: right;\n",
              "    }\n",
              "</style>\n",
              "<table border=\"1\" class=\"dataframe\">\n",
              "  <thead>\n",
              "    <tr style=\"text-align: right;\">\n",
              "      <th></th>\n",
              "      <th>CL</th>\n",
              "      <th>CO</th>\n",
              "      <th>CR</th>\n",
              "      <th>XL</th>\n",
              "      <th>XM</th>\n",
              "      <th>XZ</th>\n",
              "      <th>-1</th>\n",
              "      <th>O</th>\n",
              "      <th>R</th>\n",
              "      <th>U</th>\n",
              "      <th>NaN</th>\n",
              "    </tr>\n",
              "  </thead>\n",
              "  <tbody>\n",
              "    <tr>\n",
              "      <th>0</th>\n",
              "      <td>0.0</td>\n",
              "      <td>0.0</td>\n",
              "      <td>1.0</td>\n",
              "      <td>0.0</td>\n",
              "      <td>0.0</td>\n",
              "      <td>0.0</td>\n",
              "      <td>0.0</td>\n",
              "      <td>1.0</td>\n",
              "      <td>0.0</td>\n",
              "      <td>0.0</td>\n",
              "      <td>0.0</td>\n",
              "    </tr>\n",
              "    <tr>\n",
              "      <th>1</th>\n",
              "      <td>0.0</td>\n",
              "      <td>0.0</td>\n",
              "      <td>1.0</td>\n",
              "      <td>0.0</td>\n",
              "      <td>0.0</td>\n",
              "      <td>0.0</td>\n",
              "      <td>0.0</td>\n",
              "      <td>1.0</td>\n",
              "      <td>0.0</td>\n",
              "      <td>0.0</td>\n",
              "      <td>0.0</td>\n",
              "    </tr>\n",
              "    <tr>\n",
              "      <th>2</th>\n",
              "      <td>0.0</td>\n",
              "      <td>0.0</td>\n",
              "      <td>1.0</td>\n",
              "      <td>0.0</td>\n",
              "      <td>0.0</td>\n",
              "      <td>0.0</td>\n",
              "      <td>0.0</td>\n",
              "      <td>1.0</td>\n",
              "      <td>0.0</td>\n",
              "      <td>0.0</td>\n",
              "      <td>0.0</td>\n",
              "    </tr>\n",
              "    <tr>\n",
              "      <th>3</th>\n",
              "      <td>0.0</td>\n",
              "      <td>0.0</td>\n",
              "      <td>1.0</td>\n",
              "      <td>0.0</td>\n",
              "      <td>0.0</td>\n",
              "      <td>0.0</td>\n",
              "      <td>0.0</td>\n",
              "      <td>1.0</td>\n",
              "      <td>0.0</td>\n",
              "      <td>0.0</td>\n",
              "      <td>0.0</td>\n",
              "    </tr>\n",
              "    <tr>\n",
              "      <th>4</th>\n",
              "      <td>0.0</td>\n",
              "      <td>0.0</td>\n",
              "      <td>1.0</td>\n",
              "      <td>0.0</td>\n",
              "      <td>0.0</td>\n",
              "      <td>0.0</td>\n",
              "      <td>0.0</td>\n",
              "      <td>1.0</td>\n",
              "      <td>0.0</td>\n",
              "      <td>0.0</td>\n",
              "      <td>0.0</td>\n",
              "    </tr>\n",
              "  </tbody>\n",
              "</table>\n",
              "</div>"
            ],
            "text/plain": [
              "    CL   CO   CR   XL   XM   XZ   -1    O    R    U  NaN\n",
              "0  0.0  0.0  1.0  0.0  0.0  0.0  0.0  1.0  0.0  0.0  0.0\n",
              "1  0.0  0.0  1.0  0.0  0.0  0.0  0.0  1.0  0.0  0.0  0.0\n",
              "2  0.0  0.0  1.0  0.0  0.0  0.0  0.0  1.0  0.0  0.0  0.0\n",
              "3  0.0  0.0  1.0  0.0  0.0  0.0  0.0  1.0  0.0  0.0  0.0\n",
              "4  0.0  0.0  1.0  0.0  0.0  0.0  0.0  1.0  0.0  0.0  0.0"
            ]
          },
          "execution_count": 14,
          "metadata": {},
          "output_type": "execute_result"
        }
      ],
      "source": [
        "cat_enc_features = pd.DataFrame(feature_array, columns=feature_labels)\n",
        "cat_enc_features.head()"
      ]
    },
    {
      "cell_type": "code",
      "execution_count": null,
      "id": "c6858ce3",
      "metadata": {
        "id": "c6858ce3"
      },
      "outputs": [],
      "source": [
        "new_sampled_df = pd.concat([cat_enc_features, sampled_df], axis=1)"
      ]
    },
    {
      "cell_type": "code",
      "execution_count": null,
      "id": "19204541",
      "metadata": {
        "id": "19204541",
        "outputId": "774d4019-20d4-43eb-8869-26d191627d62"
      },
      "outputs": [
        {
          "data": {
            "text/html": [
              "<div>\n",
              "<style scoped>\n",
              "    .dataframe tbody tr th:only-of-type {\n",
              "        vertical-align: middle;\n",
              "    }\n",
              "\n",
              "    .dataframe tbody tr th {\n",
              "        vertical-align: top;\n",
              "    }\n",
              "\n",
              "    .dataframe thead th {\n",
              "        text-align: right;\n",
              "    }\n",
              "</style>\n",
              "<table border=\"1\" class=\"dataframe\">\n",
              "  <thead>\n",
              "    <tr style=\"text-align: right;\">\n",
              "      <th></th>\n",
              "      <th>CL</th>\n",
              "      <th>CO</th>\n",
              "      <th>CR</th>\n",
              "      <th>XL</th>\n",
              "      <th>XM</th>\n",
              "      <th>XZ</th>\n",
              "      <th>-1</th>\n",
              "      <th>O</th>\n",
              "      <th>R</th>\n",
              "      <th>U</th>\n",
              "      <th>...</th>\n",
              "      <th>D_136</th>\n",
              "      <th>D_137</th>\n",
              "      <th>D_138</th>\n",
              "      <th>D_139</th>\n",
              "      <th>D_140</th>\n",
              "      <th>D_141</th>\n",
              "      <th>D_142</th>\n",
              "      <th>D_143</th>\n",
              "      <th>D_144</th>\n",
              "      <th>D_145</th>\n",
              "    </tr>\n",
              "  </thead>\n",
              "  <tbody>\n",
              "    <tr>\n",
              "      <th>0</th>\n",
              "      <td>0.0</td>\n",
              "      <td>0.0</td>\n",
              "      <td>1.0</td>\n",
              "      <td>0.0</td>\n",
              "      <td>0.0</td>\n",
              "      <td>0.0</td>\n",
              "      <td>0.0</td>\n",
              "      <td>1.0</td>\n",
              "      <td>0.0</td>\n",
              "      <td>0.0</td>\n",
              "      <td>...</td>\n",
              "      <td>NaN</td>\n",
              "      <td>NaN</td>\n",
              "      <td>NaN</td>\n",
              "      <td>0.002427</td>\n",
              "      <td>0.003706</td>\n",
              "      <td>0.003818</td>\n",
              "      <td>NaN</td>\n",
              "      <td>0.000569</td>\n",
              "      <td>0.000610</td>\n",
              "      <td>0.002674</td>\n",
              "    </tr>\n",
              "    <tr>\n",
              "      <th>1</th>\n",
              "      <td>0.0</td>\n",
              "      <td>0.0</td>\n",
              "      <td>1.0</td>\n",
              "      <td>0.0</td>\n",
              "      <td>0.0</td>\n",
              "      <td>0.0</td>\n",
              "      <td>0.0</td>\n",
              "      <td>1.0</td>\n",
              "      <td>0.0</td>\n",
              "      <td>0.0</td>\n",
              "      <td>...</td>\n",
              "      <td>NaN</td>\n",
              "      <td>NaN</td>\n",
              "      <td>NaN</td>\n",
              "      <td>0.003954</td>\n",
              "      <td>0.003167</td>\n",
              "      <td>0.005032</td>\n",
              "      <td>NaN</td>\n",
              "      <td>0.009576</td>\n",
              "      <td>0.005492</td>\n",
              "      <td>0.009217</td>\n",
              "    </tr>\n",
              "    <tr>\n",
              "      <th>2</th>\n",
              "      <td>0.0</td>\n",
              "      <td>0.0</td>\n",
              "      <td>1.0</td>\n",
              "      <td>0.0</td>\n",
              "      <td>0.0</td>\n",
              "      <td>0.0</td>\n",
              "      <td>0.0</td>\n",
              "      <td>1.0</td>\n",
              "      <td>0.0</td>\n",
              "      <td>0.0</td>\n",
              "      <td>...</td>\n",
              "      <td>NaN</td>\n",
              "      <td>NaN</td>\n",
              "      <td>NaN</td>\n",
              "      <td>0.003269</td>\n",
              "      <td>0.007329</td>\n",
              "      <td>0.000427</td>\n",
              "      <td>NaN</td>\n",
              "      <td>0.003429</td>\n",
              "      <td>0.006986</td>\n",
              "      <td>0.002603</td>\n",
              "    </tr>\n",
              "    <tr>\n",
              "      <th>3</th>\n",
              "      <td>0.0</td>\n",
              "      <td>0.0</td>\n",
              "      <td>1.0</td>\n",
              "      <td>0.0</td>\n",
              "      <td>0.0</td>\n",
              "      <td>0.0</td>\n",
              "      <td>0.0</td>\n",
              "      <td>1.0</td>\n",
              "      <td>0.0</td>\n",
              "      <td>0.0</td>\n",
              "      <td>...</td>\n",
              "      <td>NaN</td>\n",
              "      <td>NaN</td>\n",
              "      <td>NaN</td>\n",
              "      <td>0.006117</td>\n",
              "      <td>0.004516</td>\n",
              "      <td>0.003200</td>\n",
              "      <td>NaN</td>\n",
              "      <td>0.008419</td>\n",
              "      <td>0.006527</td>\n",
              "      <td>0.009600</td>\n",
              "    </tr>\n",
              "    <tr>\n",
              "      <th>4</th>\n",
              "      <td>0.0</td>\n",
              "      <td>0.0</td>\n",
              "      <td>1.0</td>\n",
              "      <td>0.0</td>\n",
              "      <td>0.0</td>\n",
              "      <td>0.0</td>\n",
              "      <td>0.0</td>\n",
              "      <td>1.0</td>\n",
              "      <td>0.0</td>\n",
              "      <td>0.0</td>\n",
              "      <td>...</td>\n",
              "      <td>NaN</td>\n",
              "      <td>NaN</td>\n",
              "      <td>NaN</td>\n",
              "      <td>0.003671</td>\n",
              "      <td>0.004946</td>\n",
              "      <td>0.008889</td>\n",
              "      <td>NaN</td>\n",
              "      <td>0.001670</td>\n",
              "      <td>0.008126</td>\n",
              "      <td>0.009827</td>\n",
              "    </tr>\n",
              "  </tbody>\n",
              "</table>\n",
              "<p>5 rows × 201 columns</p>\n",
              "</div>"
            ],
            "text/plain": [
              "    CL   CO   CR   XL   XM   XZ   -1    O    R    U  ...  D_136 D_137 D_138  \\\n",
              "0  0.0  0.0  1.0  0.0  0.0  0.0  0.0  1.0  0.0  0.0  ...    NaN   NaN   NaN   \n",
              "1  0.0  0.0  1.0  0.0  0.0  0.0  0.0  1.0  0.0  0.0  ...    NaN   NaN   NaN   \n",
              "2  0.0  0.0  1.0  0.0  0.0  0.0  0.0  1.0  0.0  0.0  ...    NaN   NaN   NaN   \n",
              "3  0.0  0.0  1.0  0.0  0.0  0.0  0.0  1.0  0.0  0.0  ...    NaN   NaN   NaN   \n",
              "4  0.0  0.0  1.0  0.0  0.0  0.0  0.0  1.0  0.0  0.0  ...    NaN   NaN   NaN   \n",
              "\n",
              "      D_139     D_140     D_141  D_142     D_143     D_144     D_145  \n",
              "0  0.002427  0.003706  0.003818    NaN  0.000569  0.000610  0.002674  \n",
              "1  0.003954  0.003167  0.005032    NaN  0.009576  0.005492  0.009217  \n",
              "2  0.003269  0.007329  0.000427    NaN  0.003429  0.006986  0.002603  \n",
              "3  0.006117  0.004516  0.003200    NaN  0.008419  0.006527  0.009600  \n",
              "4  0.003671  0.004946  0.008889    NaN  0.001670  0.008126  0.009827  \n",
              "\n",
              "[5 rows x 201 columns]"
            ]
          },
          "execution_count": 16,
          "metadata": {},
          "output_type": "execute_result"
        }
      ],
      "source": [
        "new_sampled_df.head()"
      ]
    },
    {
      "cell_type": "code",
      "execution_count": null,
      "id": "cc1dafc9",
      "metadata": {
        "id": "cc1dafc9",
        "outputId": "8b6a5e69-c70d-4155-a73f-18bf415ce33c"
      },
      "outputs": [
        {
          "data": {
            "text/plain": [
              "['CL', 'CO', 'CR', 'XL', 'XM', 'XZ', '-1', 'O', 'R', 'U', nan]"
            ]
          },
          "execution_count": 19,
          "metadata": {},
          "output_type": "execute_result"
        }
      ],
      "source": [
        "feature_labels = feature_labels.tolist()\n",
        "feature_labels"
      ]
    },
    {
      "cell_type": "code",
      "execution_count": null,
      "id": "bb9b8492",
      "metadata": {
        "id": "bb9b8492"
      },
      "outputs": [],
      "source": [
        "aggregated_num = new_sampled_df.groupby('customer_ID')[num_features + feature_labels].agg(['mean', 'median', 'max', 'min', 'std'])\n",
        "aggregated_cat = new_sampled_df.groupby('customer_ID')[cat_features].agg(['count', 'nunique'])"
      ]
    },
    {
      "cell_type": "code",
      "execution_count": null,
      "id": "e837f823",
      "metadata": {
        "id": "e837f823",
        "outputId": "4ba2e31a-503c-4d82-c46e-874d61788038"
      },
      "outputs": [
        {
          "data": {
            "text/html": [
              "<div>\n",
              "<style scoped>\n",
              "    .dataframe tbody tr th:only-of-type {\n",
              "        vertical-align: middle;\n",
              "    }\n",
              "\n",
              "    .dataframe tbody tr th {\n",
              "        vertical-align: top;\n",
              "    }\n",
              "\n",
              "    .dataframe thead tr th {\n",
              "        text-align: left;\n",
              "    }\n",
              "</style>\n",
              "<table border=\"1\" class=\"dataframe\">\n",
              "  <thead>\n",
              "    <tr>\n",
              "      <th></th>\n",
              "      <th colspan=\"2\" halign=\"left\">B_30</th>\n",
              "      <th colspan=\"2\" halign=\"left\">B_38</th>\n",
              "      <th colspan=\"2\" halign=\"left\">D_114</th>\n",
              "      <th colspan=\"2\" halign=\"left\">D_116</th>\n",
              "      <th colspan=\"2\" halign=\"left\">D_117</th>\n",
              "      <th>...</th>\n",
              "      <th colspan=\"5\" halign=\"left\">U</th>\n",
              "      <th colspan=\"5\" halign=\"left\">NaN</th>\n",
              "    </tr>\n",
              "    <tr>\n",
              "      <th></th>\n",
              "      <th>count</th>\n",
              "      <th>nunique</th>\n",
              "      <th>count</th>\n",
              "      <th>nunique</th>\n",
              "      <th>count</th>\n",
              "      <th>nunique</th>\n",
              "      <th>count</th>\n",
              "      <th>nunique</th>\n",
              "      <th>count</th>\n",
              "      <th>nunique</th>\n",
              "      <th>...</th>\n",
              "      <th>mean</th>\n",
              "      <th>median</th>\n",
              "      <th>max</th>\n",
              "      <th>min</th>\n",
              "      <th>std</th>\n",
              "      <th>mean</th>\n",
              "      <th>median</th>\n",
              "      <th>max</th>\n",
              "      <th>min</th>\n",
              "      <th>std</th>\n",
              "    </tr>\n",
              "  </thead>\n",
              "  <tbody>\n",
              "    <tr>\n",
              "      <th>0</th>\n",
              "      <td>13</td>\n",
              "      <td>1</td>\n",
              "      <td>13</td>\n",
              "      <td>1</td>\n",
              "      <td>13</td>\n",
              "      <td>1</td>\n",
              "      <td>13</td>\n",
              "      <td>1</td>\n",
              "      <td>13</td>\n",
              "      <td>1</td>\n",
              "      <td>...</td>\n",
              "      <td>0.0</td>\n",
              "      <td>0.0</td>\n",
              "      <td>0.0</td>\n",
              "      <td>0.0</td>\n",
              "      <td>0.0</td>\n",
              "      <td>0.0</td>\n",
              "      <td>0.0</td>\n",
              "      <td>0.0</td>\n",
              "      <td>0.0</td>\n",
              "      <td>0.0</td>\n",
              "    </tr>\n",
              "    <tr>\n",
              "      <th>1</th>\n",
              "      <td>13</td>\n",
              "      <td>1</td>\n",
              "      <td>13</td>\n",
              "      <td>1</td>\n",
              "      <td>13</td>\n",
              "      <td>1</td>\n",
              "      <td>13</td>\n",
              "      <td>1</td>\n",
              "      <td>13</td>\n",
              "      <td>1</td>\n",
              "      <td>...</td>\n",
              "      <td>0.0</td>\n",
              "      <td>0.0</td>\n",
              "      <td>0.0</td>\n",
              "      <td>0.0</td>\n",
              "      <td>0.0</td>\n",
              "      <td>0.0</td>\n",
              "      <td>0.0</td>\n",
              "      <td>0.0</td>\n",
              "      <td>0.0</td>\n",
              "      <td>0.0</td>\n",
              "    </tr>\n",
              "    <tr>\n",
              "      <th>2</th>\n",
              "      <td>13</td>\n",
              "      <td>1</td>\n",
              "      <td>13</td>\n",
              "      <td>1</td>\n",
              "      <td>13</td>\n",
              "      <td>2</td>\n",
              "      <td>13</td>\n",
              "      <td>1</td>\n",
              "      <td>13</td>\n",
              "      <td>1</td>\n",
              "      <td>...</td>\n",
              "      <td>0.0</td>\n",
              "      <td>0.0</td>\n",
              "      <td>0.0</td>\n",
              "      <td>0.0</td>\n",
              "      <td>0.0</td>\n",
              "      <td>0.0</td>\n",
              "      <td>0.0</td>\n",
              "      <td>0.0</td>\n",
              "      <td>0.0</td>\n",
              "      <td>0.0</td>\n",
              "    </tr>\n",
              "    <tr>\n",
              "      <th>3</th>\n",
              "      <td>13</td>\n",
              "      <td>1</td>\n",
              "      <td>13</td>\n",
              "      <td>1</td>\n",
              "      <td>13</td>\n",
              "      <td>1</td>\n",
              "      <td>13</td>\n",
              "      <td>1</td>\n",
              "      <td>13</td>\n",
              "      <td>2</td>\n",
              "      <td>...</td>\n",
              "      <td>0.0</td>\n",
              "      <td>0.0</td>\n",
              "      <td>0.0</td>\n",
              "      <td>0.0</td>\n",
              "      <td>0.0</td>\n",
              "      <td>0.0</td>\n",
              "      <td>0.0</td>\n",
              "      <td>0.0</td>\n",
              "      <td>0.0</td>\n",
              "      <td>0.0</td>\n",
              "    </tr>\n",
              "    <tr>\n",
              "      <th>4</th>\n",
              "      <td>13</td>\n",
              "      <td>1</td>\n",
              "      <td>13</td>\n",
              "      <td>2</td>\n",
              "      <td>13</td>\n",
              "      <td>1</td>\n",
              "      <td>13</td>\n",
              "      <td>1</td>\n",
              "      <td>13</td>\n",
              "      <td>1</td>\n",
              "      <td>...</td>\n",
              "      <td>0.0</td>\n",
              "      <td>0.0</td>\n",
              "      <td>0.0</td>\n",
              "      <td>0.0</td>\n",
              "      <td>0.0</td>\n",
              "      <td>0.0</td>\n",
              "      <td>0.0</td>\n",
              "      <td>0.0</td>\n",
              "      <td>0.0</td>\n",
              "      <td>0.0</td>\n",
              "    </tr>\n",
              "  </tbody>\n",
              "</table>\n",
              "<p>5 rows × 952 columns</p>\n",
              "</div>"
            ],
            "text/plain": [
              "   B_30          B_38         D_114         D_116         D_117          ...  \\\n",
              "  count nunique count nunique count nunique count nunique count nunique  ...   \n",
              "0    13       1    13       1    13       1    13       1    13       1  ...   \n",
              "1    13       1    13       1    13       1    13       1    13       1  ...   \n",
              "2    13       1    13       1    13       2    13       1    13       1  ...   \n",
              "3    13       1    13       1    13       1    13       1    13       2  ...   \n",
              "4    13       1    13       2    13       1    13       1    13       1  ...   \n",
              "\n",
              "     U                        NaN                        \n",
              "  mean median  max  min  std mean median  max  min  std  \n",
              "0  0.0    0.0  0.0  0.0  0.0  0.0    0.0  0.0  0.0  0.0  \n",
              "1  0.0    0.0  0.0  0.0  0.0  0.0    0.0  0.0  0.0  0.0  \n",
              "2  0.0    0.0  0.0  0.0  0.0  0.0    0.0  0.0  0.0  0.0  \n",
              "3  0.0    0.0  0.0  0.0  0.0  0.0    0.0  0.0  0.0  0.0  \n",
              "4  0.0    0.0  0.0  0.0  0.0  0.0    0.0  0.0  0.0  0.0  \n",
              "\n",
              "[5 rows x 952 columns]"
            ]
          },
          "execution_count": 41,
          "metadata": {},
          "output_type": "execute_result"
        }
      ],
      "source": [
        "df_features = pd.concat([aggregated_cat, aggregated_num], axis = 1)\n",
        "df_features.reset_index(inplace = True)\n",
        "df_features_sharp = df_features.drop('customer_ID', axis = 1)\n",
        "df_features_sharp.head()"
      ]
    },
    {
      "cell_type": "code",
      "execution_count": null,
      "id": "71ec9fb9",
      "metadata": {
        "id": "71ec9fb9"
      },
      "outputs": [],
      "source": [
        "train_labels = pd.read_csv(r\"D:\\Desktop\\train_new\\train_labels.csv\")\n",
        "train_labels_sharp = train_labels.iloc[:1251]"
      ]
    },
    {
      "cell_type": "code",
      "execution_count": null,
      "id": "a86af5e5",
      "metadata": {
        "id": "a86af5e5"
      },
      "outputs": [],
      "source": [
        "X = df_features_sharp\n",
        "y = train_labels_sharp.target"
      ]
    },
    {
      "cell_type": "code",
      "source": [
        "from sklearn.model_selection import train_test_split\n",
        "\n",
        "X_train, X_test, y_train, y_test = train_test_split(X, y, test_size= .30, random_state = 42)\n",
        "X_train, X_test = X_train.reset_index(), X_test.reset_index()  \n",
        "X_train, X_test = X_train.drop('index', axis=1), X_test.drop('index', axis=1)"
      ],
      "metadata": {
        "id": "qEdt8zid2Dly"
      },
      "id": "qEdt8zid2Dly",
      "execution_count": null,
      "outputs": []
    },
    {
      "cell_type": "markdown",
      "source": [
        "LightGBM adds nodes to trees based on the gain from adding that node, regardless of depth: \n",
        "\n",
        "![leaf-wise.webp](data:image/webp;base64,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)\n",
        "\n",
        "Because of this growth strategy, it isn’t straightforward to use max_depth alone to limit the complexity of trees. The num_leaves parameter sets the maximum number of nodes per tree. Decrease num_leaves to reduce training time."
      ],
      "metadata": {
        "id": "DvYOS2Dx7S7c"
      },
      "id": "DvYOS2Dx7S7c"
    },
    {
      "cell_type": "code",
      "source": [
        "clf = LGBMClassifier(n_estimators = 50000, max_depth=5,\n",
        "                    random_state = 0, boosting_type = 'goss',\n",
        "                    extra_trees = True)"
      ],
      "metadata": {
        "id": "yWjY4y6K2OVX"
      },
      "id": "yWjY4y6K2OVX",
      "execution_count": null,
      "outputs": []
    },
    {
      "cell_type": "code",
      "source": [
        "clf.fit(X_train, Y_train,\n",
        "       eval_set = [(X_test, Y_test)],\n",
        "       callbacks = [early_stopping(50),\n",
        "                   log_evaluation(0)])"
      ],
      "metadata": {
        "id": "304C9Xme2SSJ"
      },
      "id": "304C9Xme2SSJ",
      "execution_count": null,
      "outputs": []
    },
    {
      "cell_type": "code",
      "source": [
        "LGBMClassifier(boosting_type = 'goss', extra_trees = True, max_depth = 5,\n",
        "               n_estimators = 50000, random_state = 0)\n",
        "\n",
        "ypred = pd.DataFrame(y_test.copy(deep = True))\n",
        "ypred = y_pred.rename(columns = {'target':'prediction'})\n",
        "ypred.head(5)"
      ],
      "metadata": {
        "id": "7ebKAkEw2Ufr"
      },
      "id": "7ebKAkEw2Ufr",
      "execution_count": null,
      "outputs": []
    },
    {
      "cell_type": "code",
      "source": [
        "ypred['prediction'] = clf.predict_proba(xtest)[:,1]\n",
        "ypred.head(5)"
      ],
      "metadata": {
        "id": "lm0DrmPY2Z3_"
      },
      "id": "lm0DrmPY2Z3_",
      "execution_count": null,
      "outputs": []
    },
    {
      "cell_type": "code",
      "execution_count": null,
      "id": "b67f5848",
      "metadata": {
        "id": "b67f5848"
      },
      "outputs": [],
      "source": [
        "metrics = pd.DataFrame(\n",
        "        {\"scores\" : [model.oob_score_, model.score(X_test, y_test), roc_auc_score(y_test, y_predict_proba), f1_score(y_test, y_pred)]},\n",
        "        index = [\"oob_score\", \"accuracy\", \"roc_auc\", \"f1_score\"]\n",
        ")"
      ]
    },
    {
      "cell_type": "code",
      "source": [
        "metrics"
      ],
      "metadata": {
        "id": "MlRkIMjo3DRt"
      },
      "id": "MlRkIMjo3DRt",
      "execution_count": null,
      "outputs": []
    },
    {
      "cell_type": "markdown",
      "source": [
        "![MS Paint _ Microsoft Paint Online (9).png](data:image/png;base64,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)\n",
        "\n",
        "\n",
        "\n",
        "For better accuracy this might work: \n",
        "\n",
        "*   use large `max_bin` (may be slower)\n",
        "*   use small learning_rate with large `num_iterations`\n",
        "*   use large `num_leaves` (may cause over-fitting)\n",
        "*   *use bigger training data* (in the case of the competition we have chosen, this requirement has already been exceeded)\n",
        "*   try `dart`\n",
        "\n",
        "\n"
      ],
      "metadata": {
        "id": "Rfd0YUY57nZb"
      },
      "id": "Rfd0YUY57nZb"
    }
  ],
  "metadata": {
    "kernelspec": {
      "display_name": "Python 3 (ipykernel)",
      "language": "python",
      "name": "python3"
    },
    "language_info": {
      "codemirror_mode": {
        "name": "ipython",
        "version": 3
      },
      "file_extension": ".py",
      "mimetype": "text/x-python",
      "name": "python",
      "nbconvert_exporter": "python",
      "pygments_lexer": "ipython3",
      "version": "3.9.7"
    },
    "colab": {
      "provenance": []
    }
  },
  "nbformat": 4,
  "nbformat_minor": 5
}