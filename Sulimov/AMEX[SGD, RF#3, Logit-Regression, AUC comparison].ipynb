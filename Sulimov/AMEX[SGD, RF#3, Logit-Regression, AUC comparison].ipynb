{
 "cells": [
  {
   "cell_type": "code",
   "execution_count": 1,
   "id": "556705fc",
   "metadata": {},
   "outputs": [],
   "source": [
    "import pandas as pd\n",
    "import numpy as np\n",
    "import os\n",
    "import pickle\n",
    "import matplotlib.pyplot as plt"
   ]
  },
  {
   "cell_type": "code",
   "execution_count": 2,
   "id": "7ad14ace",
   "metadata": {},
   "outputs": [],
   "source": [
    "df = pd.read_pickle(r'C:\\Users\\danys\\Downloads\\data_compressed.pkl')"
   ]
  },
  {
   "cell_type": "code",
   "execution_count": 3,
   "id": "c3b1de56",
   "metadata": {},
   "outputs": [
    {
     "data": {
      "text/plain": [
       "(5531451, 190)"
      ]
     },
     "execution_count": 3,
     "metadata": {},
     "output_type": "execute_result"
    }
   ],
   "source": [
    "df.shape"
   ]
  },
  {
   "cell_type": "code",
   "execution_count": 4,
   "id": "bb31c86e",
   "metadata": {},
   "outputs": [
    {
     "data": {
      "text/plain": [
       "'D_145'"
      ]
     },
     "execution_count": 4,
     "metadata": {},
     "output_type": "execute_result"
    }
   ],
   "source": [
    "df_columns = df.columns.to_list()\n",
    "df_columns[-1]"
   ]
  },
  {
   "cell_type": "code",
   "execution_count": 4,
   "id": "d9ee5de7",
   "metadata": {},
   "outputs": [
    {
     "data": {
      "text/html": [
       "<div>\n",
       "<style scoped>\n",
       "    .dataframe tbody tr th:only-of-type {\n",
       "        vertical-align: middle;\n",
       "    }\n",
       "\n",
       "    .dataframe tbody tr th {\n",
       "        vertical-align: top;\n",
       "    }\n",
       "\n",
       "    .dataframe thead th {\n",
       "        text-align: right;\n",
       "    }\n",
       "</style>\n",
       "<table border=\"1\" class=\"dataframe\">\n",
       "  <thead>\n",
       "    <tr style=\"text-align: right;\">\n",
       "      <th></th>\n",
       "      <th>customer_ID</th>\n",
       "      <th>S_2</th>\n",
       "      <th>P_2</th>\n",
       "      <th>D_39</th>\n",
       "      <th>B_1</th>\n",
       "      <th>B_2</th>\n",
       "      <th>R_1</th>\n",
       "      <th>S_3</th>\n",
       "      <th>D_41</th>\n",
       "      <th>B_3</th>\n",
       "      <th>...</th>\n",
       "      <th>D_136</th>\n",
       "      <th>D_137</th>\n",
       "      <th>D_138</th>\n",
       "      <th>D_139</th>\n",
       "      <th>D_140</th>\n",
       "      <th>D_141</th>\n",
       "      <th>D_142</th>\n",
       "      <th>D_143</th>\n",
       "      <th>D_144</th>\n",
       "      <th>D_145</th>\n",
       "    </tr>\n",
       "  </thead>\n",
       "  <tbody>\n",
       "    <tr>\n",
       "      <th>0</th>\n",
       "      <td>0000099d6bd597052cdcda90ffabf56573fe9d7c79be5f...</td>\n",
       "      <td>2017-03-09</td>\n",
       "      <td>0.938469</td>\n",
       "      <td>0.001733</td>\n",
       "      <td>0.008724</td>\n",
       "      <td>1.006838</td>\n",
       "      <td>0.009228</td>\n",
       "      <td>0.124035</td>\n",
       "      <td>0.008771</td>\n",
       "      <td>0.004709</td>\n",
       "      <td>...</td>\n",
       "      <td>NaN</td>\n",
       "      <td>NaN</td>\n",
       "      <td>NaN</td>\n",
       "      <td>0.002427</td>\n",
       "      <td>0.003706</td>\n",
       "      <td>0.003818</td>\n",
       "      <td>NaN</td>\n",
       "      <td>0.000569</td>\n",
       "      <td>0.000610</td>\n",
       "      <td>0.002674</td>\n",
       "    </tr>\n",
       "    <tr>\n",
       "      <th>1</th>\n",
       "      <td>0000099d6bd597052cdcda90ffabf56573fe9d7c79be5f...</td>\n",
       "      <td>2017-04-07</td>\n",
       "      <td>0.936665</td>\n",
       "      <td>0.005775</td>\n",
       "      <td>0.004923</td>\n",
       "      <td>1.000653</td>\n",
       "      <td>0.006151</td>\n",
       "      <td>0.126750</td>\n",
       "      <td>0.000798</td>\n",
       "      <td>0.002714</td>\n",
       "      <td>...</td>\n",
       "      <td>NaN</td>\n",
       "      <td>NaN</td>\n",
       "      <td>NaN</td>\n",
       "      <td>0.003954</td>\n",
       "      <td>0.003167</td>\n",
       "      <td>0.005032</td>\n",
       "      <td>NaN</td>\n",
       "      <td>0.009576</td>\n",
       "      <td>0.005492</td>\n",
       "      <td>0.009217</td>\n",
       "    </tr>\n",
       "    <tr>\n",
       "      <th>2</th>\n",
       "      <td>0000099d6bd597052cdcda90ffabf56573fe9d7c79be5f...</td>\n",
       "      <td>2017-05-28</td>\n",
       "      <td>0.954180</td>\n",
       "      <td>0.091505</td>\n",
       "      <td>0.021655</td>\n",
       "      <td>1.009672</td>\n",
       "      <td>0.006815</td>\n",
       "      <td>0.123977</td>\n",
       "      <td>0.007598</td>\n",
       "      <td>0.009423</td>\n",
       "      <td>...</td>\n",
       "      <td>NaN</td>\n",
       "      <td>NaN</td>\n",
       "      <td>NaN</td>\n",
       "      <td>0.003269</td>\n",
       "      <td>0.007329</td>\n",
       "      <td>0.000427</td>\n",
       "      <td>NaN</td>\n",
       "      <td>0.003429</td>\n",
       "      <td>0.006986</td>\n",
       "      <td>0.002603</td>\n",
       "    </tr>\n",
       "    <tr>\n",
       "      <th>3</th>\n",
       "      <td>0000099d6bd597052cdcda90ffabf56573fe9d7c79be5f...</td>\n",
       "      <td>2017-06-13</td>\n",
       "      <td>0.960384</td>\n",
       "      <td>0.002455</td>\n",
       "      <td>0.013683</td>\n",
       "      <td>1.002700</td>\n",
       "      <td>0.001373</td>\n",
       "      <td>0.117169</td>\n",
       "      <td>0.000685</td>\n",
       "      <td>0.005531</td>\n",
       "      <td>...</td>\n",
       "      <td>NaN</td>\n",
       "      <td>NaN</td>\n",
       "      <td>NaN</td>\n",
       "      <td>0.006117</td>\n",
       "      <td>0.004516</td>\n",
       "      <td>0.003200</td>\n",
       "      <td>NaN</td>\n",
       "      <td>0.008419</td>\n",
       "      <td>0.006527</td>\n",
       "      <td>0.009600</td>\n",
       "    </tr>\n",
       "    <tr>\n",
       "      <th>4</th>\n",
       "      <td>0000099d6bd597052cdcda90ffabf56573fe9d7c79be5f...</td>\n",
       "      <td>2017-07-16</td>\n",
       "      <td>0.947248</td>\n",
       "      <td>0.002483</td>\n",
       "      <td>0.015193</td>\n",
       "      <td>1.000727</td>\n",
       "      <td>0.007605</td>\n",
       "      <td>0.117325</td>\n",
       "      <td>0.004653</td>\n",
       "      <td>0.009312</td>\n",
       "      <td>...</td>\n",
       "      <td>NaN</td>\n",
       "      <td>NaN</td>\n",
       "      <td>NaN</td>\n",
       "      <td>0.003671</td>\n",
       "      <td>0.004946</td>\n",
       "      <td>0.008889</td>\n",
       "      <td>NaN</td>\n",
       "      <td>0.001670</td>\n",
       "      <td>0.008126</td>\n",
       "      <td>0.009827</td>\n",
       "    </tr>\n",
       "  </tbody>\n",
       "</table>\n",
       "<p>5 rows × 190 columns</p>\n",
       "</div>"
      ],
      "text/plain": [
       "                                         customer_ID         S_2       P_2  \\\n",
       "0  0000099d6bd597052cdcda90ffabf56573fe9d7c79be5f...  2017-03-09  0.938469   \n",
       "1  0000099d6bd597052cdcda90ffabf56573fe9d7c79be5f...  2017-04-07  0.936665   \n",
       "2  0000099d6bd597052cdcda90ffabf56573fe9d7c79be5f...  2017-05-28  0.954180   \n",
       "3  0000099d6bd597052cdcda90ffabf56573fe9d7c79be5f...  2017-06-13  0.960384   \n",
       "4  0000099d6bd597052cdcda90ffabf56573fe9d7c79be5f...  2017-07-16  0.947248   \n",
       "\n",
       "       D_39       B_1       B_2       R_1       S_3      D_41       B_3  ...  \\\n",
       "0  0.001733  0.008724  1.006838  0.009228  0.124035  0.008771  0.004709  ...   \n",
       "1  0.005775  0.004923  1.000653  0.006151  0.126750  0.000798  0.002714  ...   \n",
       "2  0.091505  0.021655  1.009672  0.006815  0.123977  0.007598  0.009423  ...   \n",
       "3  0.002455  0.013683  1.002700  0.001373  0.117169  0.000685  0.005531  ...   \n",
       "4  0.002483  0.015193  1.000727  0.007605  0.117325  0.004653  0.009312  ...   \n",
       "\n",
       "   D_136  D_137  D_138     D_139     D_140     D_141  D_142     D_143  \\\n",
       "0    NaN    NaN    NaN  0.002427  0.003706  0.003818    NaN  0.000569   \n",
       "1    NaN    NaN    NaN  0.003954  0.003167  0.005032    NaN  0.009576   \n",
       "2    NaN    NaN    NaN  0.003269  0.007329  0.000427    NaN  0.003429   \n",
       "3    NaN    NaN    NaN  0.006117  0.004516  0.003200    NaN  0.008419   \n",
       "4    NaN    NaN    NaN  0.003671  0.004946  0.008889    NaN  0.001670   \n",
       "\n",
       "      D_144     D_145  \n",
       "0  0.000610  0.002674  \n",
       "1  0.005492  0.009217  \n",
       "2  0.006986  0.002603  \n",
       "3  0.006527  0.009600  \n",
       "4  0.008126  0.009827  \n",
       "\n",
       "[5 rows x 190 columns]"
      ]
     },
     "execution_count": 4,
     "metadata": {},
     "output_type": "execute_result"
    }
   ],
   "source": [
    "df.head()"
   ]
  },
  {
   "cell_type": "code",
   "execution_count": 10,
   "id": "b688ba26",
   "metadata": {},
   "outputs": [],
   "source": [
    "cat_features = ['B_30', 'B_38', 'D_114', 'D_116', 'D_117', 'D_120', 'D_126', 'D_63', 'D_64', 'D_66', 'D_68']\n",
    "num_features = [col for col in df if col not in cat_features + ['S_2', 'customer_ID', 'B_31', 'D_87']]\n",
    "binary_features = ['B_31', 'D_87']"
   ]
  },
  {
   "cell_type": "code",
   "execution_count": 6,
   "id": "50c93e1e",
   "metadata": {},
   "outputs": [],
   "source": [
    "sampled_df = df.iloc[:15000, :]"
   ]
  },
  {
   "cell_type": "code",
   "execution_count": 28,
   "id": "cac61fb3",
   "metadata": {},
   "outputs": [],
   "source": [
    "from sklearn.preprocessing import OneHotEncoder"
   ]
  },
  {
   "cell_type": "code",
   "execution_count": 29,
   "id": "018bdd49",
   "metadata": {},
   "outputs": [],
   "source": [
    "enc = OneHotEncoder(handle_unknown='ignore')"
   ]
  },
  {
   "cell_type": "code",
   "execution_count": 39,
   "id": "495bf89d",
   "metadata": {},
   "outputs": [],
   "source": [
    "feature_array = enc.fit_transform(sampled_df[['D_63', 'D_64']]).toarray()"
   ]
  },
  {
   "cell_type": "code",
   "execution_count": 40,
   "id": "d7e57b33",
   "metadata": {},
   "outputs": [],
   "source": [
    "feature_labels = enc.categories_"
   ]
  },
  {
   "cell_type": "code",
   "execution_count": 68,
   "id": "6590dddd",
   "metadata": {},
   "outputs": [],
   "source": [
    "feature_labels = np.concatenate((np.array(feature_labels)[0], np.array(feature_labels)[1]), axis=0)"
   ]
  },
  {
   "cell_type": "code",
   "execution_count": 70,
   "id": "d8da8a6f",
   "metadata": {},
   "outputs": [],
   "source": [
    "cat_enc_features = pd.DataFrame(feature_array, columns=feature_labels)"
   ]
  },
  {
   "cell_type": "code",
   "execution_count": 71,
   "id": "0f1efe34",
   "metadata": {},
   "outputs": [
    {
     "data": {
      "text/html": [
       "<div>\n",
       "<style scoped>\n",
       "    .dataframe tbody tr th:only-of-type {\n",
       "        vertical-align: middle;\n",
       "    }\n",
       "\n",
       "    .dataframe tbody tr th {\n",
       "        vertical-align: top;\n",
       "    }\n",
       "\n",
       "    .dataframe thead th {\n",
       "        text-align: right;\n",
       "    }\n",
       "</style>\n",
       "<table border=\"1\" class=\"dataframe\">\n",
       "  <thead>\n",
       "    <tr style=\"text-align: right;\">\n",
       "      <th></th>\n",
       "      <th>CL</th>\n",
       "      <th>CO</th>\n",
       "      <th>CR</th>\n",
       "      <th>XL</th>\n",
       "      <th>XM</th>\n",
       "      <th>XZ</th>\n",
       "      <th>-1</th>\n",
       "      <th>O</th>\n",
       "      <th>R</th>\n",
       "      <th>U</th>\n",
       "      <th>NaN</th>\n",
       "    </tr>\n",
       "  </thead>\n",
       "  <tbody>\n",
       "    <tr>\n",
       "      <th>0</th>\n",
       "      <td>0.0</td>\n",
       "      <td>0.0</td>\n",
       "      <td>1.0</td>\n",
       "      <td>0.0</td>\n",
       "      <td>0.0</td>\n",
       "      <td>0.0</td>\n",
       "      <td>0.0</td>\n",
       "      <td>1.0</td>\n",
       "      <td>0.0</td>\n",
       "      <td>0.0</td>\n",
       "      <td>0.0</td>\n",
       "    </tr>\n",
       "    <tr>\n",
       "      <th>1</th>\n",
       "      <td>0.0</td>\n",
       "      <td>0.0</td>\n",
       "      <td>1.0</td>\n",
       "      <td>0.0</td>\n",
       "      <td>0.0</td>\n",
       "      <td>0.0</td>\n",
       "      <td>0.0</td>\n",
       "      <td>1.0</td>\n",
       "      <td>0.0</td>\n",
       "      <td>0.0</td>\n",
       "      <td>0.0</td>\n",
       "    </tr>\n",
       "    <tr>\n",
       "      <th>2</th>\n",
       "      <td>0.0</td>\n",
       "      <td>0.0</td>\n",
       "      <td>1.0</td>\n",
       "      <td>0.0</td>\n",
       "      <td>0.0</td>\n",
       "      <td>0.0</td>\n",
       "      <td>0.0</td>\n",
       "      <td>1.0</td>\n",
       "      <td>0.0</td>\n",
       "      <td>0.0</td>\n",
       "      <td>0.0</td>\n",
       "    </tr>\n",
       "    <tr>\n",
       "      <th>3</th>\n",
       "      <td>0.0</td>\n",
       "      <td>0.0</td>\n",
       "      <td>1.0</td>\n",
       "      <td>0.0</td>\n",
       "      <td>0.0</td>\n",
       "      <td>0.0</td>\n",
       "      <td>0.0</td>\n",
       "      <td>1.0</td>\n",
       "      <td>0.0</td>\n",
       "      <td>0.0</td>\n",
       "      <td>0.0</td>\n",
       "    </tr>\n",
       "    <tr>\n",
       "      <th>4</th>\n",
       "      <td>0.0</td>\n",
       "      <td>0.0</td>\n",
       "      <td>1.0</td>\n",
       "      <td>0.0</td>\n",
       "      <td>0.0</td>\n",
       "      <td>0.0</td>\n",
       "      <td>0.0</td>\n",
       "      <td>1.0</td>\n",
       "      <td>0.0</td>\n",
       "      <td>0.0</td>\n",
       "      <td>0.0</td>\n",
       "    </tr>\n",
       "  </tbody>\n",
       "</table>\n",
       "</div>"
      ],
      "text/plain": [
       "    CL   CO   CR   XL   XM   XZ   -1    O    R    U  NaN\n",
       "0  0.0  0.0  1.0  0.0  0.0  0.0  0.0  1.0  0.0  0.0  0.0\n",
       "1  0.0  0.0  1.0  0.0  0.0  0.0  0.0  1.0  0.0  0.0  0.0\n",
       "2  0.0  0.0  1.0  0.0  0.0  0.0  0.0  1.0  0.0  0.0  0.0\n",
       "3  0.0  0.0  1.0  0.0  0.0  0.0  0.0  1.0  0.0  0.0  0.0\n",
       "4  0.0  0.0  1.0  0.0  0.0  0.0  0.0  1.0  0.0  0.0  0.0"
      ]
     },
     "execution_count": 71,
     "metadata": {},
     "output_type": "execute_result"
    }
   ],
   "source": [
    "cat_enc_features.head()"
   ]
  },
  {
   "cell_type": "code",
   "execution_count": 72,
   "id": "4ce7bf4b",
   "metadata": {},
   "outputs": [],
   "source": [
    "new_sampled_df = pd.concat([cat_enc_features, sampled_df], axis=1)"
   ]
  },
  {
   "cell_type": "code",
   "execution_count": 73,
   "id": "41d68479",
   "metadata": {},
   "outputs": [
    {
     "data": {
      "text/html": [
       "<div>\n",
       "<style scoped>\n",
       "    .dataframe tbody tr th:only-of-type {\n",
       "        vertical-align: middle;\n",
       "    }\n",
       "\n",
       "    .dataframe tbody tr th {\n",
       "        vertical-align: top;\n",
       "    }\n",
       "\n",
       "    .dataframe thead th {\n",
       "        text-align: right;\n",
       "    }\n",
       "</style>\n",
       "<table border=\"1\" class=\"dataframe\">\n",
       "  <thead>\n",
       "    <tr style=\"text-align: right;\">\n",
       "      <th></th>\n",
       "      <th>CL</th>\n",
       "      <th>CO</th>\n",
       "      <th>CR</th>\n",
       "      <th>XL</th>\n",
       "      <th>XM</th>\n",
       "      <th>XZ</th>\n",
       "      <th>-1</th>\n",
       "      <th>O</th>\n",
       "      <th>R</th>\n",
       "      <th>U</th>\n",
       "      <th>...</th>\n",
       "      <th>D_136</th>\n",
       "      <th>D_137</th>\n",
       "      <th>D_138</th>\n",
       "      <th>D_139</th>\n",
       "      <th>D_140</th>\n",
       "      <th>D_141</th>\n",
       "      <th>D_142</th>\n",
       "      <th>D_143</th>\n",
       "      <th>D_144</th>\n",
       "      <th>D_145</th>\n",
       "    </tr>\n",
       "  </thead>\n",
       "  <tbody>\n",
       "    <tr>\n",
       "      <th>0</th>\n",
       "      <td>0.0</td>\n",
       "      <td>0.0</td>\n",
       "      <td>1.0</td>\n",
       "      <td>0.0</td>\n",
       "      <td>0.0</td>\n",
       "      <td>0.0</td>\n",
       "      <td>0.0</td>\n",
       "      <td>1.0</td>\n",
       "      <td>0.0</td>\n",
       "      <td>0.0</td>\n",
       "      <td>...</td>\n",
       "      <td>NaN</td>\n",
       "      <td>NaN</td>\n",
       "      <td>NaN</td>\n",
       "      <td>0.002427</td>\n",
       "      <td>0.003706</td>\n",
       "      <td>0.003818</td>\n",
       "      <td>NaN</td>\n",
       "      <td>0.000569</td>\n",
       "      <td>0.000610</td>\n",
       "      <td>0.002674</td>\n",
       "    </tr>\n",
       "    <tr>\n",
       "      <th>1</th>\n",
       "      <td>0.0</td>\n",
       "      <td>0.0</td>\n",
       "      <td>1.0</td>\n",
       "      <td>0.0</td>\n",
       "      <td>0.0</td>\n",
       "      <td>0.0</td>\n",
       "      <td>0.0</td>\n",
       "      <td>1.0</td>\n",
       "      <td>0.0</td>\n",
       "      <td>0.0</td>\n",
       "      <td>...</td>\n",
       "      <td>NaN</td>\n",
       "      <td>NaN</td>\n",
       "      <td>NaN</td>\n",
       "      <td>0.003954</td>\n",
       "      <td>0.003167</td>\n",
       "      <td>0.005032</td>\n",
       "      <td>NaN</td>\n",
       "      <td>0.009576</td>\n",
       "      <td>0.005492</td>\n",
       "      <td>0.009217</td>\n",
       "    </tr>\n",
       "    <tr>\n",
       "      <th>2</th>\n",
       "      <td>0.0</td>\n",
       "      <td>0.0</td>\n",
       "      <td>1.0</td>\n",
       "      <td>0.0</td>\n",
       "      <td>0.0</td>\n",
       "      <td>0.0</td>\n",
       "      <td>0.0</td>\n",
       "      <td>1.0</td>\n",
       "      <td>0.0</td>\n",
       "      <td>0.0</td>\n",
       "      <td>...</td>\n",
       "      <td>NaN</td>\n",
       "      <td>NaN</td>\n",
       "      <td>NaN</td>\n",
       "      <td>0.003269</td>\n",
       "      <td>0.007329</td>\n",
       "      <td>0.000427</td>\n",
       "      <td>NaN</td>\n",
       "      <td>0.003429</td>\n",
       "      <td>0.006986</td>\n",
       "      <td>0.002603</td>\n",
       "    </tr>\n",
       "    <tr>\n",
       "      <th>3</th>\n",
       "      <td>0.0</td>\n",
       "      <td>0.0</td>\n",
       "      <td>1.0</td>\n",
       "      <td>0.0</td>\n",
       "      <td>0.0</td>\n",
       "      <td>0.0</td>\n",
       "      <td>0.0</td>\n",
       "      <td>1.0</td>\n",
       "      <td>0.0</td>\n",
       "      <td>0.0</td>\n",
       "      <td>...</td>\n",
       "      <td>NaN</td>\n",
       "      <td>NaN</td>\n",
       "      <td>NaN</td>\n",
       "      <td>0.006117</td>\n",
       "      <td>0.004516</td>\n",
       "      <td>0.003200</td>\n",
       "      <td>NaN</td>\n",
       "      <td>0.008419</td>\n",
       "      <td>0.006527</td>\n",
       "      <td>0.009600</td>\n",
       "    </tr>\n",
       "    <tr>\n",
       "      <th>4</th>\n",
       "      <td>0.0</td>\n",
       "      <td>0.0</td>\n",
       "      <td>1.0</td>\n",
       "      <td>0.0</td>\n",
       "      <td>0.0</td>\n",
       "      <td>0.0</td>\n",
       "      <td>0.0</td>\n",
       "      <td>1.0</td>\n",
       "      <td>0.0</td>\n",
       "      <td>0.0</td>\n",
       "      <td>...</td>\n",
       "      <td>NaN</td>\n",
       "      <td>NaN</td>\n",
       "      <td>NaN</td>\n",
       "      <td>0.003671</td>\n",
       "      <td>0.004946</td>\n",
       "      <td>0.008889</td>\n",
       "      <td>NaN</td>\n",
       "      <td>0.001670</td>\n",
       "      <td>0.008126</td>\n",
       "      <td>0.009827</td>\n",
       "    </tr>\n",
       "  </tbody>\n",
       "</table>\n",
       "<p>5 rows × 201 columns</p>\n",
       "</div>"
      ],
      "text/plain": [
       "    CL   CO   CR   XL   XM   XZ   -1    O    R    U  ...  D_136 D_137 D_138  \\\n",
       "0  0.0  0.0  1.0  0.0  0.0  0.0  0.0  1.0  0.0  0.0  ...    NaN   NaN   NaN   \n",
       "1  0.0  0.0  1.0  0.0  0.0  0.0  0.0  1.0  0.0  0.0  ...    NaN   NaN   NaN   \n",
       "2  0.0  0.0  1.0  0.0  0.0  0.0  0.0  1.0  0.0  0.0  ...    NaN   NaN   NaN   \n",
       "3  0.0  0.0  1.0  0.0  0.0  0.0  0.0  1.0  0.0  0.0  ...    NaN   NaN   NaN   \n",
       "4  0.0  0.0  1.0  0.0  0.0  0.0  0.0  1.0  0.0  0.0  ...    NaN   NaN   NaN   \n",
       "\n",
       "      D_139     D_140     D_141  D_142     D_143     D_144     D_145  \n",
       "0  0.002427  0.003706  0.003818    NaN  0.000569  0.000610  0.002674  \n",
       "1  0.003954  0.003167  0.005032    NaN  0.009576  0.005492  0.009217  \n",
       "2  0.003269  0.007329  0.000427    NaN  0.003429  0.006986  0.002603  \n",
       "3  0.006117  0.004516  0.003200    NaN  0.008419  0.006527  0.009600  \n",
       "4  0.003671  0.004946  0.008889    NaN  0.001670  0.008126  0.009827  \n",
       "\n",
       "[5 rows x 201 columns]"
      ]
     },
     "execution_count": 73,
     "metadata": {},
     "output_type": "execute_result"
    }
   ],
   "source": [
    "new_sampled_df.head()"
   ]
  },
  {
   "cell_type": "code",
   "execution_count": 74,
   "id": "235a073a",
   "metadata": {},
   "outputs": [],
   "source": [
    "from sklearn.impute import SimpleImputer"
   ]
  },
  {
   "cell_type": "code",
   "execution_count": 77,
   "id": "5d3f5e1c",
   "metadata": {},
   "outputs": [],
   "source": [
    "feature_labels = feature_labels.tolist()"
   ]
  },
  {
   "cell_type": "code",
   "execution_count": 79,
   "id": "84fa3776",
   "metadata": {},
   "outputs": [
    {
     "data": {
      "text/plain": [
       "['CL', 'CO', 'CR', 'XL', 'XM', 'XZ', '-1', 'O', 'R', 'U', nan]"
      ]
     },
     "execution_count": 79,
     "metadata": {},
     "output_type": "execute_result"
    }
   ],
   "source": [
    "feature_labels"
   ]
  },
  {
   "cell_type": "code",
   "execution_count": 80,
   "id": "2c53d652",
   "metadata": {},
   "outputs": [],
   "source": [
    "aggregated_num = new_sampled_df.groupby('customer_ID')[num_features + feature_labels].agg(['mean', 'median', 'max', 'min', 'std'])"
   ]
  },
  {
   "cell_type": "code",
   "execution_count": 81,
   "id": "2dec38b0",
   "metadata": {},
   "outputs": [],
   "source": [
    "aggregated_cat = new_sampled_df.groupby('customer_ID')[cat_features].agg(['count', 'nunique'])"
   ]
  },
  {
   "cell_type": "code",
   "execution_count": 82,
   "id": "18ca29b3",
   "metadata": {},
   "outputs": [
    {
     "name": "stdout",
     "output_type": "stream",
     "text": [
      "(1251, 952)\n"
     ]
    },
    {
     "name": "stderr",
     "output_type": "stream",
     "text": [
      "C:\\Users\\danys\\AppData\\Local\\Temp/ipykernel_17680/4085544773.py:3: PerformanceWarning: dropping on a non-lexsorted multi-index without a level parameter may impact performance.\n",
      "  df_features_sharp = df_features.drop('customer_ID', axis=1)\n"
     ]
    }
   ],
   "source": [
    "df_features = pd.concat([aggregated_cat, aggregated_num], axis=1)\n",
    "df_features.reset_index(inplace=True)\n",
    "df_features_sharp = df_features.drop('customer_ID', axis=1)\n",
    "print(df_features_sharp.shape)"
   ]
  },
  {
   "cell_type": "code",
   "execution_count": 83,
   "id": "e837f823",
   "metadata": {},
   "outputs": [
    {
     "data": {
      "text/html": [
       "<div>\n",
       "<style scoped>\n",
       "    .dataframe tbody tr th:only-of-type {\n",
       "        vertical-align: middle;\n",
       "    }\n",
       "\n",
       "    .dataframe tbody tr th {\n",
       "        vertical-align: top;\n",
       "    }\n",
       "\n",
       "    .dataframe thead tr th {\n",
       "        text-align: left;\n",
       "    }\n",
       "</style>\n",
       "<table border=\"1\" class=\"dataframe\">\n",
       "  <thead>\n",
       "    <tr>\n",
       "      <th></th>\n",
       "      <th colspan=\"2\" halign=\"left\">B_30</th>\n",
       "      <th colspan=\"2\" halign=\"left\">B_38</th>\n",
       "      <th colspan=\"2\" halign=\"left\">D_114</th>\n",
       "      <th colspan=\"2\" halign=\"left\">D_116</th>\n",
       "      <th colspan=\"2\" halign=\"left\">D_117</th>\n",
       "      <th>...</th>\n",
       "      <th colspan=\"5\" halign=\"left\">U</th>\n",
       "      <th colspan=\"5\" halign=\"left\">NaN</th>\n",
       "    </tr>\n",
       "    <tr>\n",
       "      <th></th>\n",
       "      <th>count</th>\n",
       "      <th>nunique</th>\n",
       "      <th>count</th>\n",
       "      <th>nunique</th>\n",
       "      <th>count</th>\n",
       "      <th>nunique</th>\n",
       "      <th>count</th>\n",
       "      <th>nunique</th>\n",
       "      <th>count</th>\n",
       "      <th>nunique</th>\n",
       "      <th>...</th>\n",
       "      <th>mean</th>\n",
       "      <th>median</th>\n",
       "      <th>max</th>\n",
       "      <th>min</th>\n",
       "      <th>std</th>\n",
       "      <th>mean</th>\n",
       "      <th>median</th>\n",
       "      <th>max</th>\n",
       "      <th>min</th>\n",
       "      <th>std</th>\n",
       "    </tr>\n",
       "  </thead>\n",
       "  <tbody>\n",
       "    <tr>\n",
       "      <th>0</th>\n",
       "      <td>13</td>\n",
       "      <td>1</td>\n",
       "      <td>13</td>\n",
       "      <td>1</td>\n",
       "      <td>13</td>\n",
       "      <td>1</td>\n",
       "      <td>13</td>\n",
       "      <td>1</td>\n",
       "      <td>13</td>\n",
       "      <td>1</td>\n",
       "      <td>...</td>\n",
       "      <td>0.0</td>\n",
       "      <td>0.0</td>\n",
       "      <td>0.0</td>\n",
       "      <td>0.0</td>\n",
       "      <td>0.0</td>\n",
       "      <td>0.0</td>\n",
       "      <td>0.0</td>\n",
       "      <td>0.0</td>\n",
       "      <td>0.0</td>\n",
       "      <td>0.0</td>\n",
       "    </tr>\n",
       "    <tr>\n",
       "      <th>1</th>\n",
       "      <td>13</td>\n",
       "      <td>1</td>\n",
       "      <td>13</td>\n",
       "      <td>1</td>\n",
       "      <td>13</td>\n",
       "      <td>1</td>\n",
       "      <td>13</td>\n",
       "      <td>1</td>\n",
       "      <td>13</td>\n",
       "      <td>1</td>\n",
       "      <td>...</td>\n",
       "      <td>0.0</td>\n",
       "      <td>0.0</td>\n",
       "      <td>0.0</td>\n",
       "      <td>0.0</td>\n",
       "      <td>0.0</td>\n",
       "      <td>0.0</td>\n",
       "      <td>0.0</td>\n",
       "      <td>0.0</td>\n",
       "      <td>0.0</td>\n",
       "      <td>0.0</td>\n",
       "    </tr>\n",
       "    <tr>\n",
       "      <th>2</th>\n",
       "      <td>13</td>\n",
       "      <td>1</td>\n",
       "      <td>13</td>\n",
       "      <td>1</td>\n",
       "      <td>13</td>\n",
       "      <td>2</td>\n",
       "      <td>13</td>\n",
       "      <td>1</td>\n",
       "      <td>13</td>\n",
       "      <td>1</td>\n",
       "      <td>...</td>\n",
       "      <td>0.0</td>\n",
       "      <td>0.0</td>\n",
       "      <td>0.0</td>\n",
       "      <td>0.0</td>\n",
       "      <td>0.0</td>\n",
       "      <td>0.0</td>\n",
       "      <td>0.0</td>\n",
       "      <td>0.0</td>\n",
       "      <td>0.0</td>\n",
       "      <td>0.0</td>\n",
       "    </tr>\n",
       "    <tr>\n",
       "      <th>3</th>\n",
       "      <td>13</td>\n",
       "      <td>1</td>\n",
       "      <td>13</td>\n",
       "      <td>1</td>\n",
       "      <td>13</td>\n",
       "      <td>1</td>\n",
       "      <td>13</td>\n",
       "      <td>1</td>\n",
       "      <td>13</td>\n",
       "      <td>2</td>\n",
       "      <td>...</td>\n",
       "      <td>0.0</td>\n",
       "      <td>0.0</td>\n",
       "      <td>0.0</td>\n",
       "      <td>0.0</td>\n",
       "      <td>0.0</td>\n",
       "      <td>0.0</td>\n",
       "      <td>0.0</td>\n",
       "      <td>0.0</td>\n",
       "      <td>0.0</td>\n",
       "      <td>0.0</td>\n",
       "    </tr>\n",
       "    <tr>\n",
       "      <th>4</th>\n",
       "      <td>13</td>\n",
       "      <td>1</td>\n",
       "      <td>13</td>\n",
       "      <td>2</td>\n",
       "      <td>13</td>\n",
       "      <td>1</td>\n",
       "      <td>13</td>\n",
       "      <td>1</td>\n",
       "      <td>13</td>\n",
       "      <td>1</td>\n",
       "      <td>...</td>\n",
       "      <td>0.0</td>\n",
       "      <td>0.0</td>\n",
       "      <td>0.0</td>\n",
       "      <td>0.0</td>\n",
       "      <td>0.0</td>\n",
       "      <td>0.0</td>\n",
       "      <td>0.0</td>\n",
       "      <td>0.0</td>\n",
       "      <td>0.0</td>\n",
       "      <td>0.0</td>\n",
       "    </tr>\n",
       "  </tbody>\n",
       "</table>\n",
       "<p>5 rows × 952 columns</p>\n",
       "</div>"
      ],
      "text/plain": [
       "   B_30          B_38         D_114         D_116         D_117          ...  \\\n",
       "  count nunique count nunique count nunique count nunique count nunique  ...   \n",
       "0    13       1    13       1    13       1    13       1    13       1  ...   \n",
       "1    13       1    13       1    13       1    13       1    13       1  ...   \n",
       "2    13       1    13       1    13       2    13       1    13       1  ...   \n",
       "3    13       1    13       1    13       1    13       1    13       2  ...   \n",
       "4    13       1    13       2    13       1    13       1    13       1  ...   \n",
       "\n",
       "     U                        NaN                        \n",
       "  mean median  max  min  std mean median  max  min  std  \n",
       "0  0.0    0.0  0.0  0.0  0.0  0.0    0.0  0.0  0.0  0.0  \n",
       "1  0.0    0.0  0.0  0.0  0.0  0.0    0.0  0.0  0.0  0.0  \n",
       "2  0.0    0.0  0.0  0.0  0.0  0.0    0.0  0.0  0.0  0.0  \n",
       "3  0.0    0.0  0.0  0.0  0.0  0.0    0.0  0.0  0.0  0.0  \n",
       "4  0.0    0.0  0.0  0.0  0.0  0.0    0.0  0.0  0.0  0.0  \n",
       "\n",
       "[5 rows x 952 columns]"
      ]
     },
     "execution_count": 83,
     "metadata": {},
     "output_type": "execute_result"
    }
   ],
   "source": [
    "df_features_sharp.head()"
   ]
  },
  {
   "cell_type": "code",
   "execution_count": 90,
   "id": "71ec9fb9",
   "metadata": {},
   "outputs": [],
   "source": [
    "train_labels = pd.read_csv(r\"C:\\Users\\danys\\Downloads\\train_new\\train_labels.csv\")"
   ]
  },
  {
   "cell_type": "code",
   "execution_count": 91,
   "id": "e987879f",
   "metadata": {},
   "outputs": [],
   "source": [
    "train_labels_sharp = train_labels.iloc[:1251]"
   ]
  },
  {
   "cell_type": "code",
   "execution_count": 19,
   "id": "a86af5e5",
   "metadata": {},
   "outputs": [],
   "source": [
    "X = df_features_sharp\n",
    "y = train_labels_sharp.target"
   ]
  },
  {
   "cell_type": "code",
   "execution_count": 94,
   "id": "d2581c89",
   "metadata": {},
   "outputs": [
    {
     "name": "stderr",
     "output_type": "stream",
     "text": [
      "C:\\Users\\danys\\AppData\\Local\\Temp/ipykernel_17680/2102111229.py:3: PerformanceWarning: dropping on a non-lexsorted multi-index without a level parameter may impact performance.\n",
      "  X_train, X_test = X_train.drop('index', axis=1), X_test.drop('index', axis=1)\n"
     ]
    }
   ],
   "source": [
    "X_train, X_test, y_train, y_test = train_test_split(X, y, test_size= .30, random_state=42)\n",
    "X_train, X_test = X_train.reset_index(), X_test.reset_index()  # that's done for the sake of starting from 0\n",
    "X_train, X_test = X_train.drop('index', axis=1), X_test.drop('index', axis=1)"
   ]
  },
  {
   "cell_type": "code",
   "execution_count": 95,
   "id": "e11908c7",
   "metadata": {},
   "outputs": [],
   "source": [
    "from sklearn.ensemble import RandomForestClassifier\n",
    "from sklearn.datasets import make_classification\n",
    "from sklearn.model_selection import train_test_split\n",
    "from sklearn.metrics import roc_auc_score, f1_score, classification_report"
   ]
  },
  {
   "cell_type": "code",
   "execution_count": 96,
   "id": "25bf4435",
   "metadata": {},
   "outputs": [],
   "source": [
    "model = RandomForestClassifier(class_weight={0: 0.2, 1: 0.8}, oob_score=True)"
   ]
  },
  {
   "cell_type": "code",
   "execution_count": 97,
   "id": "e0aa3e65",
   "metadata": {},
   "outputs": [],
   "source": [
    "X = df_features_sharp\n",
    "y = train_labels_sharp.target"
   ]
  },
  {
   "cell_type": "code",
   "execution_count": 98,
   "id": "bbc30524",
   "metadata": {},
   "outputs": [],
   "source": [
    "imp = SimpleImputer(missing_values=np.nan, strategy='mean')\n",
    "imp = imp.fit(X_train)"
   ]
  },
  {
   "cell_type": "code",
   "execution_count": 101,
   "id": "8a83452e",
   "metadata": {},
   "outputs": [],
   "source": [
    "X_train_imp = imp.transform(X_train)\n",
    "X_test_imp = imp.transform(X_test)"
   ]
  },
  {
   "cell_type": "code",
   "execution_count": 103,
   "id": "ab5b8a73",
   "metadata": {},
   "outputs": [],
   "source": [
    "model.fit(X_train_imp, y_train)\n",
    "y_pred = model.predict(X_test_imp)"
   ]
  },
  {
   "cell_type": "code",
   "execution_count": 104,
   "id": "79bd3a3e",
   "metadata": {},
   "outputs": [],
   "source": [
    "y_pred_proba = model.predict_proba(X_test_imp)[:, model.classes_[model.classes_ == 1][0]]"
   ]
  },
  {
   "cell_type": "code",
   "execution_count": 106,
   "id": "b67f5848",
   "metadata": {},
   "outputs": [],
   "source": [
    "scores_rf = pd.DataFrame(\n",
    "        {\"scores\" : [model.oob_score_, model.score(X_test_imp, y_test), roc_auc_score(y_test, y_pred_proba), f1_score(y_test, y_pred)]},\n",
    "        index = [\"oob_score\", \"accuracy\", \"roc_auc\", \"f1_score\"]\n",
    ")"
   ]
  },
  {
   "cell_type": "code",
   "execution_count": 107,
   "id": "79507ddf",
   "metadata": {},
   "outputs": [
    {
     "data": {
      "text/html": [
       "<div>\n",
       "<style scoped>\n",
       "    .dataframe tbody tr th:only-of-type {\n",
       "        vertical-align: middle;\n",
       "    }\n",
       "\n",
       "    .dataframe tbody tr th {\n",
       "        vertical-align: top;\n",
       "    }\n",
       "\n",
       "    .dataframe thead th {\n",
       "        text-align: right;\n",
       "    }\n",
       "</style>\n",
       "<table border=\"1\" class=\"dataframe\">\n",
       "  <thead>\n",
       "    <tr style=\"text-align: right;\">\n",
       "      <th></th>\n",
       "      <th>scores</th>\n",
       "    </tr>\n",
       "  </thead>\n",
       "  <tbody>\n",
       "    <tr>\n",
       "      <th>oob_score</th>\n",
       "      <td>0.856000</td>\n",
       "    </tr>\n",
       "    <tr>\n",
       "      <th>accuracy</th>\n",
       "      <td>0.869681</td>\n",
       "    </tr>\n",
       "    <tr>\n",
       "      <th>roc_auc</th>\n",
       "      <td>0.935484</td>\n",
       "    </tr>\n",
       "    <tr>\n",
       "      <th>f1_score</th>\n",
       "      <td>0.723164</td>\n",
       "    </tr>\n",
       "  </tbody>\n",
       "</table>\n",
       "</div>"
      ],
      "text/plain": [
       "             scores\n",
       "oob_score  0.856000\n",
       "accuracy   0.869681\n",
       "roc_auc    0.935484\n",
       "f1_score   0.723164"
      ]
     },
     "execution_count": 107,
     "metadata": {},
     "output_type": "execute_result"
    }
   ],
   "source": [
    "scores_rf"
   ]
  },
  {
   "cell_type": "code",
   "execution_count": 108,
   "id": "1341f9d2",
   "metadata": {},
   "outputs": [],
   "source": [
    "target_names = ['class 0', 'class 1']"
   ]
  },
  {
   "cell_type": "code",
   "execution_count": 109,
   "id": "9a7caed1",
   "metadata": {},
   "outputs": [
    {
     "name": "stdout",
     "output_type": "stream",
     "text": [
      "              precision    recall  f1-score   support\n",
      "\n",
      "     class 0       0.90      0.93      0.91       283\n",
      "     class 1       0.76      0.69      0.72        93\n",
      "\n",
      "    accuracy                           0.87       376\n",
      "   macro avg       0.83      0.81      0.82       376\n",
      "weighted avg       0.87      0.87      0.87       376\n",
      "\n"
     ]
    }
   ],
   "source": [
    "print(classification_report(y_test, y_pred, target_names=target_names))"
   ]
  },
  {
   "cell_type": "code",
   "execution_count": 112,
   "id": "383ddcea",
   "metadata": {},
   "outputs": [],
   "source": [
    "from sklearn import metrics"
   ]
  },
  {
   "cell_type": "code",
   "execution_count": 122,
   "id": "d6e51439",
   "metadata": {},
   "outputs": [],
   "source": [
    "clf = SGDClassifier(loss='modified_huber', class_weight= {0: 0.2, 1:0.8})"
   ]
  },
  {
   "cell_type": "code",
   "execution_count": 123,
   "id": "66589333",
   "metadata": {},
   "outputs": [
    {
     "data": {
      "text/plain": [
       "SGDClassifier(class_weight={0: 0.2, 1: 0.8}, loss='modified_huber')"
      ]
     },
     "execution_count": 123,
     "metadata": {},
     "output_type": "execute_result"
    }
   ],
   "source": [
    "clf.fit(X_train_imp, y_train)"
   ]
  },
  {
   "cell_type": "code",
   "execution_count": 125,
   "id": "65009721",
   "metadata": {},
   "outputs": [],
   "source": [
    "predictions = clf.predict(X_test_imp)"
   ]
  },
  {
   "cell_type": "code",
   "execution_count": 126,
   "id": "a60e4a4c",
   "metadata": {},
   "outputs": [],
   "source": [
    "predictions_proba = clf.predict_proba(X_test_imp)[:, clf.classes_[clf.classes_ == 1][0]]"
   ]
  },
  {
   "cell_type": "code",
   "execution_count": 131,
   "id": "d196d7bb",
   "metadata": {},
   "outputs": [],
   "source": [
    "score_svm = pd.DataFrame(\n",
    "        {roc_auc_score(y_test, predictions_proba)},\n",
    "        index = [\"roc_auc\"], columns=['result']\n",
    ")"
   ]
  },
  {
   "cell_type": "code",
   "execution_count": 132,
   "id": "a361e9ff",
   "metadata": {},
   "outputs": [
    {
     "data": {
      "text/html": [
       "<div>\n",
       "<style scoped>\n",
       "    .dataframe tbody tr th:only-of-type {\n",
       "        vertical-align: middle;\n",
       "    }\n",
       "\n",
       "    .dataframe tbody tr th {\n",
       "        vertical-align: top;\n",
       "    }\n",
       "\n",
       "    .dataframe thead th {\n",
       "        text-align: right;\n",
       "    }\n",
       "</style>\n",
       "<table border=\"1\" class=\"dataframe\">\n",
       "  <thead>\n",
       "    <tr style=\"text-align: right;\">\n",
       "      <th></th>\n",
       "      <th>result</th>\n",
       "    </tr>\n",
       "  </thead>\n",
       "  <tbody>\n",
       "    <tr>\n",
       "      <th>roc_auc</th>\n",
       "      <td>0.81956</td>\n",
       "    </tr>\n",
       "  </tbody>\n",
       "</table>\n",
       "</div>"
      ],
      "text/plain": [
       "          result\n",
       "roc_auc  0.81956"
      ]
     },
     "execution_count": 132,
     "metadata": {},
     "output_type": "execute_result"
    }
   ],
   "source": [
    "score_svm"
   ]
  },
  {
   "cell_type": "code",
   "execution_count": 134,
   "id": "19ebaffc",
   "metadata": {},
   "outputs": [],
   "source": [
    "from sklearn.linear_model import LogisticRegression"
   ]
  },
  {
   "cell_type": "code",
   "execution_count": 137,
   "id": "89963549",
   "metadata": {},
   "outputs": [],
   "source": [
    "model_log_regression = LogisticRegression(random_state=42,\n",
    "                       penalty = 'l2', class_weight= {0: 0.2, 1:0.8})"
   ]
  },
  {
   "cell_type": "code",
   "execution_count": 138,
   "id": "850b9d39",
   "metadata": {},
   "outputs": [
    {
     "name": "stderr",
     "output_type": "stream",
     "text": [
      "C:\\Users\\danys\\anaconda3\\lib\\site-packages\\sklearn\\linear_model\\_logistic.py:763: ConvergenceWarning: lbfgs failed to converge (status=1):\n",
      "STOP: TOTAL NO. of ITERATIONS REACHED LIMIT.\n",
      "\n",
      "Increase the number of iterations (max_iter) or scale the data as shown in:\n",
      "    https://scikit-learn.org/stable/modules/preprocessing.html\n",
      "Please also refer to the documentation for alternative solver options:\n",
      "    https://scikit-learn.org/stable/modules/linear_model.html#logistic-regression\n",
      "  n_iter_i = _check_optimize_result(\n"
     ]
    },
    {
     "data": {
      "text/plain": [
       "LogisticRegression(class_weight={0: 0.2, 1: 0.8}, random_state=42)"
      ]
     },
     "execution_count": 138,
     "metadata": {},
     "output_type": "execute_result"
    }
   ],
   "source": [
    "model_log_regression.fit(X_train_imp, y_train)"
   ]
  },
  {
   "cell_type": "code",
   "execution_count": 139,
   "id": "6f5b8e1c",
   "metadata": {},
   "outputs": [],
   "source": [
    "preds_log = model_log_regression.predict(X_test_imp)"
   ]
  },
  {
   "cell_type": "code",
   "execution_count": 140,
   "id": "5dfef5b5",
   "metadata": {},
   "outputs": [],
   "source": [
    "predictions_proba_log = model_log_regression.predict_proba(X_test_imp)[:, clf.classes_[clf.classes_ == 1][0]]"
   ]
  },
  {
   "cell_type": "code",
   "execution_count": 141,
   "id": "2eb35e6c",
   "metadata": {},
   "outputs": [],
   "source": [
    "score_log = pd.DataFrame(\n",
    "        {roc_auc_score(y_test, predictions_proba_log)},\n",
    "        index = [\"roc_auc\"], columns=['result']\n",
    ")"
   ]
  },
  {
   "cell_type": "code",
   "execution_count": 142,
   "id": "4862f312",
   "metadata": {},
   "outputs": [
    {
     "data": {
      "text/html": [
       "<div>\n",
       "<style scoped>\n",
       "    .dataframe tbody tr th:only-of-type {\n",
       "        vertical-align: middle;\n",
       "    }\n",
       "\n",
       "    .dataframe tbody tr th {\n",
       "        vertical-align: top;\n",
       "    }\n",
       "\n",
       "    .dataframe thead th {\n",
       "        text-align: right;\n",
       "    }\n",
       "</style>\n",
       "<table border=\"1\" class=\"dataframe\">\n",
       "  <thead>\n",
       "    <tr style=\"text-align: right;\">\n",
       "      <th></th>\n",
       "      <th>result</th>\n",
       "    </tr>\n",
       "  </thead>\n",
       "  <tbody>\n",
       "    <tr>\n",
       "      <th>roc_auc</th>\n",
       "      <td>0.927087</td>\n",
       "    </tr>\n",
       "  </tbody>\n",
       "</table>\n",
       "</div>"
      ],
      "text/plain": [
       "           result\n",
       "roc_auc  0.927087"
      ]
     },
     "execution_count": 142,
     "metadata": {},
     "output_type": "execute_result"
    }
   ],
   "source": [
    "score_log"
   ]
  },
  {
   "cell_type": "code",
   "execution_count": 143,
   "id": "974da139",
   "metadata": {},
   "outputs": [
    {
     "data": {
      "text/plain": [
       "<matplotlib.legend.Legend at 0x13f75edcb50>"
      ]
     },
     "execution_count": 143,
     "metadata": {},
     "output_type": "execute_result"
    },
    {
     "data": {
      "image/png": "[encoded data removed]",
      "text/plain": [
       "<Figure size 864x720 with 1 Axes>"
      ]
     },
     "metadata": {
      "needs_background": "light"
     },
     "output_type": "display_data"
    }
   ],
   "source": [
    "plt.figure(figsize=(12,10))\n",
    "plt.plot([0, 1], ls=\"--\")\n",
    "plt.plot([0, 0], [1, 0] , c=\".8\"), plt.plot([1, 1] , c=\".8\")\n",
    "plt.ylabel('True Positive Rate')\n",
    "plt.xlabel('False Positive Rate')\n",
    "fpr, tpr, _ = metrics.roc_curve(y_test,  y_pred_proba)\n",
    "plt.plot(fpr,tpr, label=\"The best model(RF#3), AUC={:.4f}\".format(roc_auc_score(y_test, y_pred_proba)))\n",
    "fpr1, tpr1, _ = metrics.roc_curve(y_test,  predictions_proba)\n",
    "plt.plot(fpr1,tpr1, label=\"SVM model, AUC={:.4f}\".format(roc_auc_score(y_test, predictions_proba)))\n",
    "fpr2, tpr2, _ = metrics.roc_curve(y_test,  predictions_proba_log)\n",
    "plt.plot(fpr2,tpr2, label=\"Logistic regression model, AUC={:.4f}\".format(roc_auc_score(y_test, predictions_proba_log)))\n",
    "plt.plot()\n",
    "\n",
    "plt.legend(loc=4)"
   ]
  },
  {
   "cell_type": "code",
   "execution_count": null,
   "id": "f3308f85",
   "metadata": {},
   "outputs": [],
   "source": []
  }
 ],
 "metadata": {
  "kernelspec": {
   "display_name": "Python 3 (ipykernel)",
   "language": "python",
   "name": "python3"
  },
  "language_info": {
   "codemirror_mode": {
    "name": "ipython",
    "version": 3
   },
   "file_extension": ".py",
   "mimetype": "text/x-python",
   "name": "python",
   "nbconvert_exporter": "python",
   "pygments_lexer": "ipython3",
   "version": "3.9.7"
  }
 },
 "nbformat": 4,
 "nbformat_minor": 5
}
