{
 "cells": [
  {
   "cell_type": "code",
   "execution_count": 11,
   "id": "6a05ca4c",
   "metadata": {},
   "outputs": [],
   "source": [
    "import pandas as pd\n",
    "import numpy as np\n",
    "import os"
   ]
  },
  {
   "cell_type": "markdown",
   "id": "c86d998d",
   "metadata": {},
   "source": [
    "Let's consider the following approach:\n",
    "1) read by chunks;\n",
    "\n",
    "2) save to different files of smaller size;\n",
    "\n",
    "3) preprocess them in order to reduce the overall complexity;\n",
    "\n",
    "4) merge these files together to get one dataframe"
   ]
  },
  {
   "cell_type": "code",
   "execution_count": 32,
   "id": "95c61abb",
   "metadata": {},
   "outputs": [],
   "source": [
    "i = 1\n",
    "chunksize = 100000\n",
    "for chunk in pd.read_csv(r\"C:\\Users\\danys\\Downloads\\train_data.csv\", chunksize=chunksize):\n",
    "    chunk.to_csv(r\"C:\\Users\\danys\\Downloads\\train\\train_data_\"+str(i)+\".csv\")\n",
    "    i += 1\n",
    "    chunksize += 100000"
   ]
  },
  {
   "cell_type": "code",
   "execution_count": 33,
   "id": "96a66a1e",
   "metadata": {},
   "outputs": [
    {
     "name": "stdout",
     "output_type": "stream",
     "text": [
      "56\n"
     ]
    }
   ],
   "source": [
    "print(len(os.listdir(r\"C:\\Users\\danys\\Downloads\\train\")))"
   ]
  },
  {
   "cell_type": "code",
   "execution_count": 34,
   "id": "ab925b19",
   "metadata": {},
   "outputs": [],
   "source": [
    "categorical_variables = ['B_30', 'B_38', 'D_114', 'D_116', 'D_117', 'D_120', 'D_126', 'D_63', 'D_64', 'D_66', 'D_68']"
   ]
  },
  {
   "cell_type": "code",
   "execution_count": 62,
   "id": "53c4a660",
   "metadata": {},
   "outputs": [],
   "source": [
    "for i in range(1, len(os.listdir(r\"C:\\Users\\danys\\Downloads\\train\")) + 1):\n",
    "    file = pd.read_csv(r\"C:\\Users\\danys\\Downloads\\train\\train_data_\"+str(i)+\".csv\")\n",
    "    pd.to_datetime(file.S_2)\n",
    "    for column in categorical_variables:\n",
    "        file[column] = file[column].convert_dtypes()\n",
    "    for col in file.columns:\n",
    "        if file[col].dtype == 'float64':\n",
    "            file[col] = file[col].astype('float32')\n",
    "    file.to_csv(r\"C:\\Users\\danys\\Downloads\\train_new\\train_data_\"+str(i)+\".csv\")"
   ]
  },
  {
   "cell_type": "code",
   "execution_count": 4,
   "id": "d8e015e8",
   "metadata": {},
   "outputs": [],
   "source": [
    "#final_df = pd.DataFrame()"
   ]
  },
  {
   "cell_type": "code",
   "execution_count": null,
   "id": "32eef504",
   "metadata": {},
   "outputs": [],
   "source": [
    "#for i in os.listdir(r\"C:\\Users\\danys\\Downloads\\train_new\"):\n",
    "#    file = pd.read_csv(r\"C:\\Users\\danys\\Downloads\\train_new\" + \"\\\\\" + str(i))\n",
    "#    final_df = pd.concat([final_df, file], ignore_index=True, axis=1)"
   ]
  },
  {
   "cell_type": "code",
   "execution_count": 15,
   "id": "319f7539",
   "metadata": {},
   "outputs": [],
   "source": [
    "df = pd.read_csv(r\"C:\\Users\\danys\\Downloads\\train_new\\train_data_1.csv\")"
   ]
  },
  {
   "cell_type": "code",
   "execution_count": 16,
   "id": "88e6fb3e",
   "metadata": {},
   "outputs": [
    {
     "data": {
      "text/html": [
       "<div>\n",
       "<style scoped>\n",
       "    .dataframe tbody tr th:only-of-type {\n",
       "        vertical-align: middle;\n",
       "    }\n",
       "\n",
       "    .dataframe tbody tr th {\n",
       "        vertical-align: top;\n",
       "    }\n",
       "\n",
       "    .dataframe thead tr th {\n",
       "        text-align: left;\n",
       "    }\n",
       "\n",
       "    .dataframe thead tr:last-of-type th {\n",
       "        text-align: right;\n",
       "    }\n",
       "</style>\n",
       "<table border=\"1\" class=\"dataframe\">\n",
       "  <thead>\n",
       "    <tr>\n",
       "      <th></th>\n",
       "      <th colspan=\"2\" halign=\"left\">S_2</th>\n",
       "    </tr>\n",
       "    <tr>\n",
       "      <th></th>\n",
       "      <th>min</th>\n",
       "      <th>max</th>\n",
       "    </tr>\n",
       "    <tr>\n",
       "      <th>customer_ID</th>\n",
       "      <th></th>\n",
       "      <th></th>\n",
       "    </tr>\n",
       "  </thead>\n",
       "  <tbody>\n",
       "    <tr>\n",
       "      <th>0000099d6bd597052cdcda90ffabf56573fe9d7c79be5fbac11a8ed792feb62a</th>\n",
       "      <td>2017-03-09</td>\n",
       "      <td>2018-03-13</td>\n",
       "    </tr>\n",
       "    <tr>\n",
       "      <th>00000fd6641609c6ece5454664794f0340ad84dddce9a267a310b5ae68e9d8e5</th>\n",
       "      <td>2017-03-01</td>\n",
       "      <td>2018-03-25</td>\n",
       "    </tr>\n",
       "    <tr>\n",
       "      <th>00001b22f846c82c51f6e3958ccd81970162bae8b007e80662ef27519fcc18c1</th>\n",
       "      <td>2017-03-11</td>\n",
       "      <td>2018-03-12</td>\n",
       "    </tr>\n",
       "    <tr>\n",
       "      <th>000041bdba6ecadd89a52d11886e8eaaec9325906c9723355abb5ca523658edc</th>\n",
       "      <td>2017-03-31</td>\n",
       "      <td>2018-03-29</td>\n",
       "    </tr>\n",
       "    <tr>\n",
       "      <th>00007889e4fcd2614b6cbe7f8f3d2e5c728eca32d9eb8ad51ca8b8c4a24cefed</th>\n",
       "      <td>2017-03-30</td>\n",
       "      <td>2018-03-30</td>\n",
       "    </tr>\n",
       "    <tr>\n",
       "      <th>...</th>\n",
       "      <td>...</td>\n",
       "      <td>...</td>\n",
       "    </tr>\n",
       "    <tr>\n",
       "      <th>049d799511c2d516bf98c1f5f0a1a42b6487f3774a54a15c8d9f2524d6895648</th>\n",
       "      <td>2017-03-25</td>\n",
       "      <td>2018-03-31</td>\n",
       "    </tr>\n",
       "    <tr>\n",
       "      <th>049dc60e06ade9b0bf946472126eed3bb531227f60c7c4f9e58336a0e162d465</th>\n",
       "      <td>2017-03-17</td>\n",
       "      <td>2018-03-26</td>\n",
       "    </tr>\n",
       "    <tr>\n",
       "      <th>049dcc14cb874dbcd3b473f17e7eb375e6f13ef591bf0f895cd8fe052d873c99</th>\n",
       "      <td>2017-03-31</td>\n",
       "      <td>2018-03-02</td>\n",
       "    </tr>\n",
       "    <tr>\n",
       "      <th>049dd5e7b5a6895c4f8b179362d8e91f26ebf0b6c95e99e8387fd479806b146a</th>\n",
       "      <td>2017-03-08</td>\n",
       "      <td>2018-03-08</td>\n",
       "    </tr>\n",
       "    <tr>\n",
       "      <th>049e0948e285ec6767bf07e6e3f5e0919821ee200e359dc3a04de66173ad8bbe</th>\n",
       "      <td>2017-03-29</td>\n",
       "      <td>2017-04-28</td>\n",
       "    </tr>\n",
       "  </tbody>\n",
       "</table>\n",
       "<p>8294 rows × 2 columns</p>\n",
       "</div>"
      ],
      "text/plain": [
       "                                                           S_2            \n",
       "                                                           min         max\n",
       "customer_ID                                                               \n",
       "0000099d6bd597052cdcda90ffabf56573fe9d7c79be5fb...  2017-03-09  2018-03-13\n",
       "00000fd6641609c6ece5454664794f0340ad84dddce9a26...  2017-03-01  2018-03-25\n",
       "00001b22f846c82c51f6e3958ccd81970162bae8b007e80...  2017-03-11  2018-03-12\n",
       "000041bdba6ecadd89a52d11886e8eaaec9325906c97233...  2017-03-31  2018-03-29\n",
       "00007889e4fcd2614b6cbe7f8f3d2e5c728eca32d9eb8ad...  2017-03-30  2018-03-30\n",
       "...                                                        ...         ...\n",
       "049d799511c2d516bf98c1f5f0a1a42b6487f3774a54a15...  2017-03-25  2018-03-31\n",
       "049dc60e06ade9b0bf946472126eed3bb531227f60c7c4f...  2017-03-17  2018-03-26\n",
       "049dcc14cb874dbcd3b473f17e7eb375e6f13ef591bf0f8...  2017-03-31  2018-03-02\n",
       "049dd5e7b5a6895c4f8b179362d8e91f26ebf0b6c95e99e...  2017-03-08  2018-03-08\n",
       "049e0948e285ec6767bf07e6e3f5e0919821ee200e359dc...  2017-03-29  2017-04-28\n",
       "\n",
       "[8294 rows x 2 columns]"
      ]
     },
     "execution_count": 16,
     "metadata": {},
     "output_type": "execute_result"
    }
   ],
   "source": [
    "df.groupby('customer_ID').agg({'S_2': ['min', 'max']})"
   ]
  },
  {
   "cell_type": "code",
   "execution_count": null,
   "id": "cf1192fb",
   "metadata": {},
   "outputs": [],
   "source": []
  }
 ],
 "metadata": {
  "kernelspec": {
   "display_name": "Python 3 (ipykernel)",
   "language": "python",
   "name": "python3"
  },
  "language_info": {
   "codemirror_mode": {
    "name": "ipython",
    "version": 3
   },
   "file_extension": ".py",
   "mimetype": "text/x-python",
   "name": "python",
   "nbconvert_exporter": "python",
   "pygments_lexer": "ipython3",
   "version": "3.9.7"
  }
 },
 "nbformat": 4,
 "nbformat_minor": 5
}
