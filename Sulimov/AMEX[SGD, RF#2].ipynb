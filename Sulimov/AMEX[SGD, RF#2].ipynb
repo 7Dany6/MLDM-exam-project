{
 "cells": [
  {
   "cell_type": "code",
   "execution_count": 1,
   "id": "556705fc",
   "metadata": {},
   "outputs": [],
   "source": [
    "import pandas as pd\n",
    "import numpy as np\n",
    "import os\n",
    "import pickle\n",
    "import matplotlib.pyplot as plt"
   ]
  },
  {
   "cell_type": "code",
   "execution_count": 2,
   "id": "7ad14ace",
   "metadata": {},
   "outputs": [],
   "source": [
    "df = pd.read_pickle(r'C:\\Users\\danys\\Downloads\\data_compressed.pkl')"
   ]
  },
  {
   "cell_type": "code",
   "execution_count": 3,
   "id": "c3b1de56",
   "metadata": {},
   "outputs": [
    {
     "data": {
      "text/plain": [
       "(5531451, 190)"
      ]
     },
     "execution_count": 3,
     "metadata": {},
     "output_type": "execute_result"
    }
   ],
   "source": [
    "df.shape"
   ]
  },
  {
   "cell_type": "code",
   "execution_count": 4,
   "id": "bb31c86e",
   "metadata": {},
   "outputs": [
    {
     "data": {
      "text/plain": [
       "'D_145'"
      ]
     },
     "execution_count": 4,
     "metadata": {},
     "output_type": "execute_result"
    }
   ],
   "source": [
    "df_columns = df.columns.to_list()\n",
    "df_columns[-1]"
   ]
  },
  {
   "cell_type": "code",
   "execution_count": 5,
   "id": "b688ba26",
   "metadata": {},
   "outputs": [],
   "source": [
    "cat_features = ['B_30', 'B_38', 'D_114', 'D_116', 'D_117', 'D_120', 'D_126', 'D_63', 'D_64', 'D_66', 'D_68']\n",
    "num_features = [col for col in df if col not in cat_features + ['S_2', 'customer_ID', 'B_31', 'D_87']]"
   ]
  },
  {
   "cell_type": "code",
   "execution_count": 6,
   "id": "50c93e1e",
   "metadata": {},
   "outputs": [],
   "source": [
    "sampled_df = df.iloc[:15000, :]"
   ]
  },
  {
   "cell_type": "code",
   "execution_count": 7,
   "id": "9d1cf3df",
   "metadata": {},
   "outputs": [],
   "source": [
    "aggregated_num = sampled_df.groupby('customer_ID')[num_features].agg(['mean', 'median', 'max', 'min', 'std'])"
   ]
  },
  {
   "cell_type": "code",
   "execution_count": 8,
   "id": "5542c0c1",
   "metadata": {},
   "outputs": [],
   "source": [
    "aggregated_cat = sampled_df.groupby('customer_ID')[cat_features].agg(['count', 'nunique'])"
   ]
  },
  {
   "cell_type": "code",
   "execution_count": 9,
   "id": "ab1612a3",
   "metadata": {},
   "outputs": [
    {
     "name": "stdout",
     "output_type": "stream",
     "text": [
      "(1251, 897)\n"
     ]
    },
    {
     "name": "stderr",
     "output_type": "stream",
     "text": [
      "C:\\Users\\danys\\AppData\\Local\\Temp/ipykernel_17768/4085544773.py:3: PerformanceWarning: dropping on a non-lexsorted multi-index without a level parameter may impact performance.\n",
      "  df_features_sharp = df_features.drop('customer_ID', axis=1)\n"
     ]
    }
   ],
   "source": [
    "df_features = pd.concat([aggregated_cat, aggregated_num], axis=1)\n",
    "df_features.reset_index(inplace=True)\n",
    "df_features_sharp = df_features.drop('customer_ID', axis=1)\n",
    "print(df_features_sharp.shape)"
   ]
  },
  {
   "cell_type": "code",
   "execution_count": 10,
   "id": "e837f823",
   "metadata": {},
   "outputs": [
    {
     "data": {
      "text/html": [
       "<div>\n",
       "<style scoped>\n",
       "    .dataframe tbody tr th:only-of-type {\n",
       "        vertical-align: middle;\n",
       "    }\n",
       "\n",
       "    .dataframe tbody tr th {\n",
       "        vertical-align: top;\n",
       "    }\n",
       "\n",
       "    .dataframe thead tr th {\n",
       "        text-align: left;\n",
       "    }\n",
       "</style>\n",
       "<table border=\"1\" class=\"dataframe\">\n",
       "  <thead>\n",
       "    <tr>\n",
       "      <th></th>\n",
       "      <th colspan=\"2\" halign=\"left\">B_30</th>\n",
       "      <th colspan=\"2\" halign=\"left\">B_38</th>\n",
       "      <th colspan=\"2\" halign=\"left\">D_114</th>\n",
       "      <th colspan=\"2\" halign=\"left\">D_116</th>\n",
       "      <th colspan=\"2\" halign=\"left\">D_117</th>\n",
       "      <th>...</th>\n",
       "      <th colspan=\"5\" halign=\"left\">D_144</th>\n",
       "      <th colspan=\"5\" halign=\"left\">D_145</th>\n",
       "    </tr>\n",
       "    <tr>\n",
       "      <th></th>\n",
       "      <th>count</th>\n",
       "      <th>nunique</th>\n",
       "      <th>count</th>\n",
       "      <th>nunique</th>\n",
       "      <th>count</th>\n",
       "      <th>nunique</th>\n",
       "      <th>count</th>\n",
       "      <th>nunique</th>\n",
       "      <th>count</th>\n",
       "      <th>nunique</th>\n",
       "      <th>...</th>\n",
       "      <th>mean</th>\n",
       "      <th>median</th>\n",
       "      <th>max</th>\n",
       "      <th>min</th>\n",
       "      <th>std</th>\n",
       "      <th>mean</th>\n",
       "      <th>median</th>\n",
       "      <th>max</th>\n",
       "      <th>min</th>\n",
       "      <th>std</th>\n",
       "    </tr>\n",
       "  </thead>\n",
       "  <tbody>\n",
       "    <tr>\n",
       "      <th>0</th>\n",
       "      <td>13</td>\n",
       "      <td>1</td>\n",
       "      <td>13</td>\n",
       "      <td>1</td>\n",
       "      <td>13</td>\n",
       "      <td>1</td>\n",
       "      <td>13</td>\n",
       "      <td>1</td>\n",
       "      <td>13</td>\n",
       "      <td>1</td>\n",
       "      <td>...</td>\n",
       "      <td>0.005283</td>\n",
       "      <td>0.005492</td>\n",
       "      <td>0.009616</td>\n",
       "      <td>0.000610</td>\n",
       "      <td>0.002598</td>\n",
       "      <td>0.005814</td>\n",
       "      <td>0.006362</td>\n",
       "      <td>0.009827</td>\n",
       "      <td>0.000995</td>\n",
       "      <td>0.003294</td>\n",
       "    </tr>\n",
       "    <tr>\n",
       "      <th>1</th>\n",
       "      <td>13</td>\n",
       "      <td>1</td>\n",
       "      <td>13</td>\n",
       "      <td>1</td>\n",
       "      <td>13</td>\n",
       "      <td>1</td>\n",
       "      <td>13</td>\n",
       "      <td>1</td>\n",
       "      <td>13</td>\n",
       "      <td>1</td>\n",
       "      <td>...</td>\n",
       "      <td>0.004218</td>\n",
       "      <td>0.003169</td>\n",
       "      <td>0.009568</td>\n",
       "      <td>0.000027</td>\n",
       "      <td>0.002871</td>\n",
       "      <td>0.004902</td>\n",
       "      <td>0.004469</td>\n",
       "      <td>0.009390</td>\n",
       "      <td>0.000796</td>\n",
       "      <td>0.002729</td>\n",
       "    </tr>\n",
       "    <tr>\n",
       "      <th>2</th>\n",
       "      <td>13</td>\n",
       "      <td>1</td>\n",
       "      <td>13</td>\n",
       "      <td>1</td>\n",
       "      <td>13</td>\n",
       "      <td>2</td>\n",
       "      <td>13</td>\n",
       "      <td>1</td>\n",
       "      <td>13</td>\n",
       "      <td>1</td>\n",
       "      <td>...</td>\n",
       "      <td>0.005113</td>\n",
       "      <td>0.004747</td>\n",
       "      <td>0.009415</td>\n",
       "      <td>0.000129</td>\n",
       "      <td>0.003638</td>\n",
       "      <td>0.004500</td>\n",
       "      <td>0.005110</td>\n",
       "      <td>0.006932</td>\n",
       "      <td>0.000443</td>\n",
       "      <td>0.002152</td>\n",
       "    </tr>\n",
       "    <tr>\n",
       "      <th>3</th>\n",
       "      <td>13</td>\n",
       "      <td>1</td>\n",
       "      <td>13</td>\n",
       "      <td>1</td>\n",
       "      <td>13</td>\n",
       "      <td>1</td>\n",
       "      <td>13</td>\n",
       "      <td>1</td>\n",
       "      <td>13</td>\n",
       "      <td>2</td>\n",
       "      <td>...</td>\n",
       "      <td>0.004768</td>\n",
       "      <td>0.004793</td>\n",
       "      <td>0.009919</td>\n",
       "      <td>0.000492</td>\n",
       "      <td>0.002654</td>\n",
       "      <td>0.005236</td>\n",
       "      <td>0.006356</td>\n",
       "      <td>0.009836</td>\n",
       "      <td>0.000029</td>\n",
       "      <td>0.003406</td>\n",
       "    </tr>\n",
       "    <tr>\n",
       "      <th>4</th>\n",
       "      <td>13</td>\n",
       "      <td>1</td>\n",
       "      <td>13</td>\n",
       "      <td>2</td>\n",
       "      <td>13</td>\n",
       "      <td>1</td>\n",
       "      <td>13</td>\n",
       "      <td>1</td>\n",
       "      <td>13</td>\n",
       "      <td>1</td>\n",
       "      <td>...</td>\n",
       "      <td>0.004380</td>\n",
       "      <td>0.004070</td>\n",
       "      <td>0.009436</td>\n",
       "      <td>0.000633</td>\n",
       "      <td>0.002633</td>\n",
       "      <td>0.004219</td>\n",
       "      <td>0.002884</td>\n",
       "      <td>0.009666</td>\n",
       "      <td>0.000083</td>\n",
       "      <td>0.003426</td>\n",
       "    </tr>\n",
       "  </tbody>\n",
       "</table>\n",
       "<p>5 rows × 897 columns</p>\n",
       "</div>"
      ],
      "text/plain": [
       "   B_30          B_38         D_114         D_116         D_117          ...  \\\n",
       "  count nunique count nunique count nunique count nunique count nunique  ...   \n",
       "0    13       1    13       1    13       1    13       1    13       1  ...   \n",
       "1    13       1    13       1    13       1    13       1    13       1  ...   \n",
       "2    13       1    13       1    13       2    13       1    13       1  ...   \n",
       "3    13       1    13       1    13       1    13       1    13       2  ...   \n",
       "4    13       1    13       2    13       1    13       1    13       1  ...   \n",
       "\n",
       "      D_144                                             D_145            \\\n",
       "       mean    median       max       min       std      mean    median   \n",
       "0  0.005283  0.005492  0.009616  0.000610  0.002598  0.005814  0.006362   \n",
       "1  0.004218  0.003169  0.009568  0.000027  0.002871  0.004902  0.004469   \n",
       "2  0.005113  0.004747  0.009415  0.000129  0.003638  0.004500  0.005110   \n",
       "3  0.004768  0.004793  0.009919  0.000492  0.002654  0.005236  0.006356   \n",
       "4  0.004380  0.004070  0.009436  0.000633  0.002633  0.004219  0.002884   \n",
       "\n",
       "                                 \n",
       "        max       min       std  \n",
       "0  0.009827  0.000995  0.003294  \n",
       "1  0.009390  0.000796  0.002729  \n",
       "2  0.006932  0.000443  0.002152  \n",
       "3  0.009836  0.000029  0.003406  \n",
       "4  0.009666  0.000083  0.003426  \n",
       "\n",
       "[5 rows x 897 columns]"
      ]
     },
     "execution_count": 10,
     "metadata": {},
     "output_type": "execute_result"
    }
   ],
   "source": [
    "df_features_sharp.head()"
   ]
  },
  {
   "cell_type": "code",
   "execution_count": 73,
   "id": "dcd6423c",
   "metadata": {},
   "outputs": [],
   "source": [
    "from sklearn.model_selection import train_test_split\n",
    "from sklearn.metrics import roc_auc_score, f1_score, classification_report\n",
    "from sklearn.linear_model import SGDClassifier "
   ]
  },
  {
   "cell_type": "code",
   "execution_count": 12,
   "id": "71ec9fb9",
   "metadata": {},
   "outputs": [],
   "source": [
    "train_labels = pd.read_csv(r\"C:\\Users\\danys\\Downloads\\train_new\\train_labels.csv\")"
   ]
  },
  {
   "cell_type": "code",
   "execution_count": 28,
   "id": "99bf137c",
   "metadata": {},
   "outputs": [
    {
     "data": {
      "text/plain": [
       "array([0, 1], dtype=int64)"
      ]
     },
     "execution_count": 28,
     "metadata": {},
     "output_type": "execute_result"
    }
   ],
   "source": [
    "clf.classes_"
   ]
  },
  {
   "cell_type": "code",
   "execution_count": 17,
   "id": "e987879f",
   "metadata": {},
   "outputs": [],
   "source": [
    "train_labels_sharp = train_labels.iloc[:1251]"
   ]
  },
  {
   "cell_type": "code",
   "execution_count": 42,
   "id": "df41e112",
   "metadata": {},
   "outputs": [],
   "source": [
    "clf = SGDClassifier(loss='modified_huber', class_weight= {0: 0.2, 1:0.8})"
   ]
  },
  {
   "cell_type": "code",
   "execution_count": 19,
   "id": "a86af5e5",
   "metadata": {},
   "outputs": [],
   "source": [
    "X = df_features_sharp\n",
    "y = train_labels_sharp.target"
   ]
  },
  {
   "cell_type": "code",
   "execution_count": 20,
   "id": "d2581c89",
   "metadata": {},
   "outputs": [
    {
     "name": "stderr",
     "output_type": "stream",
     "text": [
      "C:\\Users\\danys\\AppData\\Local\\Temp/ipykernel_17768/2102111229.py:3: PerformanceWarning: dropping on a non-lexsorted multi-index without a level parameter may impact performance.\n",
      "  X_train, X_test = X_train.drop('index', axis=1), X_test.drop('index', axis=1)\n"
     ]
    }
   ],
   "source": [
    "X_train, X_test, y_train, y_test = train_test_split(X, y, test_size= .30, random_state=42)\n",
    "X_train, X_test = X_train.reset_index(), X_test.reset_index()  # that's done for the sake of starting from 0\n",
    "X_train, X_test = X_train.drop('index', axis=1), X_test.drop('index', axis=1)"
   ]
  },
  {
   "cell_type": "code",
   "execution_count": 21,
   "id": "9fd6b0fb",
   "metadata": {},
   "outputs": [],
   "source": [
    "for col in X_train.columns:\n",
    "    if np.isnan(X_train[col]).sum().sum():\n",
    "        X_train[col] = X_train[col].fillna(0)\n",
    "for col in X_test.columns:\n",
    "    if np.isnan(X_test[col]).sum().sum():\n",
    "        X_test[col] = X_test[col].fillna(0)"
   ]
  },
  {
   "cell_type": "code",
   "execution_count": 43,
   "id": "391408c3",
   "metadata": {},
   "outputs": [
    {
     "data": {
      "text/plain": [
       "SGDClassifier(class_weight={0: 0.2, 1: 0.8}, loss='modified_huber')"
      ]
     },
     "execution_count": 43,
     "metadata": {},
     "output_type": "execute_result"
    }
   ],
   "source": [
    "clf.fit(X_train, y_train)"
   ]
  },
  {
   "cell_type": "code",
   "execution_count": 44,
   "id": "787538a5",
   "metadata": {},
   "outputs": [],
   "source": [
    "predictions = clf.predict(X_test)"
   ]
  },
  {
   "cell_type": "code",
   "execution_count": 45,
   "id": "baa8df7c",
   "metadata": {},
   "outputs": [],
   "source": [
    "predictions_proba = clf.predict_proba(X_test)[:, clf.classes_[clf.classes_ == 1][0]]"
   ]
  },
  {
   "cell_type": "code",
   "execution_count": 53,
   "id": "69d5c8ff",
   "metadata": {},
   "outputs": [],
   "source": [
    "scores = pd.DataFrame(\n",
    "        {roc_auc_score(y_test, predictions_proba), f1_score(y_test, predictions_proba), clf.score(X_test, y_test)},\n",
    "        index = [\"roc_auc\", \"f1_score\", \"accuracy\"], columns=['result']\n",
    ")"
   ]
  },
  {
   "cell_type": "code",
   "execution_count": 54,
   "id": "958b4a30",
   "metadata": {},
   "outputs": [
    {
     "data": {
      "text/html": [
       "<div>\n",
       "<style scoped>\n",
       "    .dataframe tbody tr th:only-of-type {\n",
       "        vertical-align: middle;\n",
       "    }\n",
       "\n",
       "    .dataframe tbody tr th {\n",
       "        vertical-align: top;\n",
       "    }\n",
       "\n",
       "    .dataframe thead th {\n",
       "        text-align: right;\n",
       "    }\n",
       "</style>\n",
       "<table border=\"1\" class=\"dataframe\">\n",
       "  <thead>\n",
       "    <tr style=\"text-align: right;\">\n",
       "      <th></th>\n",
       "      <th>result</th>\n",
       "    </tr>\n",
       "  </thead>\n",
       "  <tbody>\n",
       "    <tr>\n",
       "      <th>roc_auc</th>\n",
       "      <td>0.832402</td>\n",
       "    </tr>\n",
       "    <tr>\n",
       "      <th>f1_score</th>\n",
       "      <td>0.730000</td>\n",
       "    </tr>\n",
       "    <tr>\n",
       "      <th>accuracy</th>\n",
       "      <td>0.856383</td>\n",
       "    </tr>\n",
       "  </tbody>\n",
       "</table>\n",
       "</div>"
      ],
      "text/plain": [
       "            result\n",
       "roc_auc   0.832402\n",
       "f1_score  0.730000\n",
       "accuracy  0.856383"
      ]
     },
     "execution_count": 54,
     "metadata": {},
     "output_type": "execute_result"
    }
   ],
   "source": [
    "scores"
   ]
  },
  {
   "cell_type": "code",
   "execution_count": 78,
   "id": "f77de9fe",
   "metadata": {},
   "outputs": [
    {
     "name": "stdout",
     "output_type": "stream",
     "text": [
      "              precision    recall  f1-score   support\n",
      "\n",
      "     class 0       0.93      0.88      0.90       283\n",
      "     class 1       0.68      0.78      0.73        93\n",
      "\n",
      "    accuracy                           0.86       376\n",
      "   macro avg       0.80      0.83      0.82       376\n",
      "weighted avg       0.87      0.86      0.86       376\n",
      "\n"
     ]
    }
   ],
   "source": [
    "print(classification_report(y_test, predictions, target_names=target_names))"
   ]
  },
  {
   "cell_type": "code",
   "execution_count": 55,
   "id": "e11908c7",
   "metadata": {},
   "outputs": [],
   "source": [
    "from sklearn.ensemble import RandomForestClassifier"
   ]
  },
  {
   "cell_type": "code",
   "execution_count": 62,
   "id": "25bf4435",
   "metadata": {},
   "outputs": [],
   "source": [
    "model = RandomForestClassifier(class_weight={0: 0.2, 1: 0.8}, oob_score=True)"
   ]
  },
  {
   "cell_type": "code",
   "execution_count": 63,
   "id": "ab5b8a73",
   "metadata": {},
   "outputs": [],
   "source": [
    "model.fit(X_train, y_train)\n",
    "y_pred = model.predict(X_test)"
   ]
  },
  {
   "cell_type": "code",
   "execution_count": 64,
   "id": "79bd3a3e",
   "metadata": {},
   "outputs": [],
   "source": [
    "y_pred_proba = model.predict_proba(X_test)[:, model.classes_[model.classes_ == 1][0]]"
   ]
  },
  {
   "cell_type": "code",
   "execution_count": 65,
   "id": "b67f5848",
   "metadata": {},
   "outputs": [],
   "source": [
    "scores_rf = pd.DataFrame(\n",
    "        {\"scores\" : [model.oob_score_, model.score(X_test, y_test), roc_auc_score(y_test, y_pred_proba), f1_score(y_test, y_pred)]},\n",
    "        index = [\"oob_score\", \"accuracy\", \"roc_auc\", \"f1_score\"]\n",
    ")"
   ]
  },
  {
   "cell_type": "code",
   "execution_count": 67,
   "id": "79507ddf",
   "metadata": {},
   "outputs": [
    {
     "data": {
      "text/html": [
       "<div>\n",
       "<style scoped>\n",
       "    .dataframe tbody tr th:only-of-type {\n",
       "        vertical-align: middle;\n",
       "    }\n",
       "\n",
       "    .dataframe tbody tr th {\n",
       "        vertical-align: top;\n",
       "    }\n",
       "\n",
       "    .dataframe thead th {\n",
       "        text-align: right;\n",
       "    }\n",
       "</style>\n",
       "<table border=\"1\" class=\"dataframe\">\n",
       "  <thead>\n",
       "    <tr style=\"text-align: right;\">\n",
       "      <th></th>\n",
       "      <th>scores</th>\n",
       "    </tr>\n",
       "  </thead>\n",
       "  <tbody>\n",
       "    <tr>\n",
       "      <th>oob_score</th>\n",
       "      <td>0.864000</td>\n",
       "    </tr>\n",
       "    <tr>\n",
       "      <th>accuracy</th>\n",
       "      <td>0.875000</td>\n",
       "    </tr>\n",
       "    <tr>\n",
       "      <th>roc_auc</th>\n",
       "      <td>0.934971</td>\n",
       "    </tr>\n",
       "    <tr>\n",
       "      <th>f1_score</th>\n",
       "      <td>0.725146</td>\n",
       "    </tr>\n",
       "  </tbody>\n",
       "</table>\n",
       "</div>"
      ],
      "text/plain": [
       "             scores\n",
       "oob_score  0.864000\n",
       "accuracy   0.875000\n",
       "roc_auc    0.934971\n",
       "f1_score   0.725146"
      ]
     },
     "execution_count": 67,
     "metadata": {},
     "output_type": "execute_result"
    }
   ],
   "source": [
    "scores_rf"
   ]
  },
  {
   "cell_type": "code",
   "execution_count": 75,
   "id": "1341f9d2",
   "metadata": {},
   "outputs": [],
   "source": [
    "target_names = ['class 0', 'class 1']"
   ]
  },
  {
   "cell_type": "code",
   "execution_count": 77,
   "id": "9a7caed1",
   "metadata": {},
   "outputs": [
    {
     "name": "stdout",
     "output_type": "stream",
     "text": [
      "              precision    recall  f1-score   support\n",
      "\n",
      "     class 0       0.89      0.93      0.91       283\n",
      "     class 1       0.76      0.66      0.71        93\n",
      "\n",
      "    accuracy                           0.86       376\n",
      "   macro avg       0.83      0.79      0.81       376\n",
      "weighted avg       0.86      0.86      0.86       376\n",
      "\n"
     ]
    }
   ],
   "source": [
    "print(classification_report(y_test, y_pred, target_names=target_names))"
   ]
  },
  {
   "cell_type": "code",
   "execution_count": 68,
   "id": "bc5d07b1",
   "metadata": {},
   "outputs": [],
   "source": [
    "model_2 = RandomForestClassifier(class_weight={0: 0.2, 1: 1}, oob_score=True)"
   ]
  },
  {
   "cell_type": "code",
   "execution_count": 69,
   "id": "0f51a35d",
   "metadata": {},
   "outputs": [],
   "source": [
    "model_2.fit(X_train, y_train)\n",
    "y_pred = model_2.predict(X_test)"
   ]
  },
  {
   "cell_type": "code",
   "execution_count": 70,
   "id": "edffb34b",
   "metadata": {},
   "outputs": [],
   "source": [
    "y_pred_proba = model_2.predict_proba(X_test)[:, model_2.classes_[model_2.classes_ == 1][0]]"
   ]
  },
  {
   "cell_type": "code",
   "execution_count": 71,
   "id": "4f6c8c25",
   "metadata": {},
   "outputs": [],
   "source": [
    "scores_rf_2 = pd.DataFrame(\n",
    "        {\"scores\" : [model_2.oob_score_, model_2.score(X_test, y_test), roc_auc_score(y_test, y_pred_proba), f1_score(y_test, y_pred)]},\n",
    "        index = [\"oob_score\", \"accuracy\", \"roc_auc\", \"f1_score\"]\n",
    ")"
   ]
  },
  {
   "cell_type": "code",
   "execution_count": 72,
   "id": "49807604",
   "metadata": {},
   "outputs": [
    {
     "data": {
      "text/html": [
       "<div>\n",
       "<style scoped>\n",
       "    .dataframe tbody tr th:only-of-type {\n",
       "        vertical-align: middle;\n",
       "    }\n",
       "\n",
       "    .dataframe tbody tr th {\n",
       "        vertical-align: top;\n",
       "    }\n",
       "\n",
       "    .dataframe thead th {\n",
       "        text-align: right;\n",
       "    }\n",
       "</style>\n",
       "<table border=\"1\" class=\"dataframe\">\n",
       "  <thead>\n",
       "    <tr style=\"text-align: right;\">\n",
       "      <th></th>\n",
       "      <th>scores</th>\n",
       "    </tr>\n",
       "  </thead>\n",
       "  <tbody>\n",
       "    <tr>\n",
       "      <th>oob_score</th>\n",
       "      <td>0.846857</td>\n",
       "    </tr>\n",
       "    <tr>\n",
       "      <th>accuracy</th>\n",
       "      <td>0.864362</td>\n",
       "    </tr>\n",
       "    <tr>\n",
       "      <th>roc_auc</th>\n",
       "      <td>0.934040</td>\n",
       "    </tr>\n",
       "    <tr>\n",
       "      <th>f1_score</th>\n",
       "      <td>0.705202</td>\n",
       "    </tr>\n",
       "  </tbody>\n",
       "</table>\n",
       "</div>"
      ],
      "text/plain": [
       "             scores\n",
       "oob_score  0.846857\n",
       "accuracy   0.864362\n",
       "roc_auc    0.934040\n",
       "f1_score   0.705202"
      ]
     },
     "execution_count": 72,
     "metadata": {},
     "output_type": "execute_result"
    }
   ],
   "source": [
    "scores_rf_2"
   ]
  },
  {
   "cell_type": "code",
   "execution_count": null,
   "id": "b48959ae",
   "metadata": {},
   "outputs": [],
   "source": []
  }
 ],
 "metadata": {
  "kernelspec": {
   "display_name": "Python 3 (ipykernel)",
   "language": "python",
   "name": "python3"
  },
  "language_info": {
   "codemirror_mode": {
    "name": "ipython",
    "version": 3
   },
   "file_extension": ".py",
   "mimetype": "text/x-python",
   "name": "python",
   "nbconvert_exporter": "python",
   "pygments_lexer": "ipython3",
   "version": "3.9.7"
  }
 },
 "nbformat": 4,
 "nbformat_minor": 5
}
